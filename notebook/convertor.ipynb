{
 "cells": [
  {
   "cell_type": "markdown",
   "metadata": {},
   "source": [
    "# READING COMPRESSED DATABASE (4GB)"
   ]
  },
  {
   "cell_type": "markdown",
   "metadata": {},
   "source": [
    "The musdb18 is a dataset of 150 full lengths music tracks (~10h duration) of different genres along with their isolated drums, bass, vocals and others stems.\n",
    "\n",
    "musdb18 contains two folders, a folder with a training set: \"train\", composed of 100 songs, and a folder with a test set: \"test\", composed of 50 songs. Supervised approaches should be trained on the training set and tested on both sets.\n",
    "\n",
    "All signals are stereophonic and encoded at 44.1kHz.\n",
    "\n",
    "The data from musdb18 is composed of several different sources:\n",
    "\n",
    "100 tracks are taken from the DSD100 dataset, which is itself derived from The 'Mixing Secrets' Free Multitrack Download Library (opens new window). Please refer to this original resource for any question regarding your rights on your use of the DSD100 data.\n",
    "46 tracks are taken from the MedleyDB (opens new window)licensed under Creative Commons (BY-NC-SA 4.0).\n",
    "2 tracks were kindly provided by Native Instruments originally part of their stems pack (opens new window).\n",
    "2 tracks are from the Canadian rock band The Easton Ellises as part of the heise stems remix competition (opens new window), licensed under Creative Commons (BY-NC-SA 3.0).\n",
    "A detailed list of all tracks and their respective license is provided here (opens new window).\n",
    "\n",
    "Note\n",
    "\n",
    "The dataset is hosted on Zenodo and requires that users request access, since the tracks can only be used for academic purposes. We manually check this requests. Please do not fill the form multiple times, it usually takes as less than a day to give you access"
   ]
  },
  {
   "cell_type": "markdown",
   "metadata": {},
   "source": [
    "\n",
    "### #MUSDB18 Compressed STEMS\n",
    "\n",
    "### musdb (opens new window): Python based dataset parser\n",
    "#Parsers: https://sigsep.github.io/datasets/musdb.html#errata\n",
    "#https://github.com/sigsep/sigsep-mus-db\n",
    "\n",
    "#All files from the musdb18 dataset are encoded in the Native Instruments stems format (opens new window)(.mp4). It is a multitrack format composed of 5 stereo streams, each one encoded in AAC @256kbps. These signals correspond to:\n",
    "\n",
    "#0 - The mixture,\n",
    "#1 - The drums,\n",
    "#2 - The bass,\n",
    "#3 - The rest of the accompaniment,\n",
    "#4 - The vocals.\n",
    "\n",
    "\n",
    "#For each file, the mixture correspond to the sum of all the signals.\n",
    "# \n",
    "pip install musdb\n",
    "# #MUSDB18 Compressed STEMS\n",
    "\n",
    "# musdb (opens new window): Python based dataset parser\n",
    "#Parsers: https://sigsep.github.io/datasets/musdb.html#errata\n",
    "#https://github.com/sigsep/sigsep-mus-db\n",
    "\n",
    "#All files from the musdb18 dataset are encoded in the Native Instruments stems format (opens new window)(.mp4). It is a multitrack format composed of 5 stereo streams, each one encoded in AAC @256kbps. These signals correspond to:\n",
    "\n",
    "#0 - The mixture,\n",
    "#1 - The drums,\n",
    "#2 - The bass,\n",
    "#3 - The rest of the accompaniment,\n",
    "#4 - The vocals.\n",
    "\n",
    "\n",
    "#For each file, the mixture correspond to the sum of all the signals.\n",
    "# \n",
    "\n",
    "Note\n",
    "\n",
    "Since the mixture is separately encoded as AAC, there there is a small difference between the sum of all sources and the mixture. The result of the compression is a bandwidth, limited to 16 kHz. This difference has no impact on the bsseval evaluation performance."
   ]
  },
  {
   "cell_type": "markdown",
   "metadata": {},
   "source": [
    "what is a .stem file?\n",
    "\n",
    "A .stem file is a multi-channel audio format designed for DJs, producers, and live performers. It contains a track split into four musical elements—such as drums, bass, melody, and vocals—allowing for creative mixing and remixing. This format enables users to isolate and manipulate individual elements of a song in real time, making it a powerful tool for live performances and music production2.\n",
    "\n",
    "If you're interested in creating .stem files, you can use the Stem Creator tool, which allows you to import separate audio tracks, apply compression and limiting, and export them into a .stem.mp4 file."
   ]
  },
  {
   "cell_type": "markdown",
   "metadata": {},
   "source": [
    "### Installation and Setup"
   ]
  },
  {
   "cell_type": "markdown",
   "metadata": {},
   "source": [
    "#### Package installation"
   ]
  },
  {
   "cell_type": "code",
   "execution_count": 111,
   "metadata": {},
   "outputs": [
    {
     "name": "stdout",
     "output_type": "stream",
     "text": [
      "Requirement already satisfied: musdb in c:\\python37\\lib\\site-packages (0.4.2)\n",
      "Requirement already satisfied: numpy>=1.7 in c:\\python37\\lib\\site-packages (from musdb) (1.23.5)\n",
      "Requirement already satisfied: stempeg>=0.2.3 in c:\\python37\\lib\\site-packages (from musdb) (0.2.3)\n",
      "Requirement already satisfied: pyaml in c:\\python37\\lib\\site-packages (from musdb) (25.1.0)\n",
      "Requirement already satisfied: tqdm in c:\\python37\\lib\\site-packages (from musdb) (4.67.1)\n",
      "Requirement already satisfied: ffmpeg-python>=0.2.0 in c:\\python37\\lib\\site-packages (from stempeg>=0.2.3->musdb) (0.2.0)\n",
      "Requirement already satisfied: PyYAML in c:\\python37\\lib\\site-packages (from pyaml->musdb) (6.0.2)\n",
      "Requirement already satisfied: colorama in c:\\python37\\lib\\site-packages (from tqdm->musdb) (0.4.6)\n",
      "Requirement already satisfied: future in c:\\python37\\lib\\site-packages (from ffmpeg-python>=0.2.0->stempeg>=0.2.3->musdb) (1.0.0)\n",
      "Note: you may need to restart the kernel to use updated packages.\n"
     ]
    },
    {
     "name": "stderr",
     "output_type": "stream",
     "text": [
      "WARNING: Ignoring invalid distribution -orch (c:\\python37\\lib\\site-packages)\n",
      "WARNING: Ignoring invalid distribution -orch (c:\\python37\\lib\\site-packages)\n",
      "WARNING: Ignoring invalid distribution -orch (c:\\python37\\lib\\site-packages)\n"
     ]
    }
   ],
   "source": [
    "pip install musdb"
   ]
  },
  {
   "cell_type": "markdown",
   "metadata": {},
   "source": [
    "#### Using STEMs (Default)"
   ]
  },
  {
   "cell_type": "code",
   "execution_count": 112,
   "metadata": {},
   "outputs": [
    {
     "name": "stdout",
     "output_type": "stream",
     "text": [
      "Requirement already satisfied: imageio[ffmpeg] in c:\\python37\\lib\\site-packages (2.37.0)Note: you may need to restart the kernel to use updated packages.\n",
      "\n",
      "Requirement already satisfied: numpy in c:\\python37\\lib\\site-packages (from imageio[ffmpeg]) (1.23.5)\n",
      "Requirement already satisfied: pillow>=8.3.2 in c:\\python37\\lib\\site-packages (from imageio[ffmpeg]) (11.1.0)\n",
      "Requirement already satisfied: imageio-ffmpeg in c:\\python37\\lib\\site-packages (from imageio[ffmpeg]) (0.6.0)\n",
      "Requirement already satisfied: psutil in c:\\python37\\lib\\site-packages (from imageio[ffmpeg]) (7.0.0)\n"
     ]
    },
    {
     "name": "stderr",
     "output_type": "stream",
     "text": [
      "WARNING: Ignoring invalid distribution -orch (c:\\python37\\lib\\site-packages)\n",
      "WARNING: Ignoring invalid distribution -orch (c:\\python37\\lib\\site-packages)\n",
      "WARNING: Ignoring invalid distribution -orch (c:\\python37\\lib\\site-packages)\n"
     ]
    }
   ],
   "source": [
    "pip install imageio[ffmpeg]"
   ]
  },
  {
   "cell_type": "markdown",
   "metadata": {},
   "source": [
    "### Import packages"
   ]
  },
  {
   "cell_type": "code",
   "execution_count": 113,
   "metadata": {},
   "outputs": [],
   "source": [
    "import os\n",
    "os.environ[\"PATH\"] += \";C:\\\\Users\\\\Ramiro Brie\\\\Desktop\\\\UPC_IA_GITHUB\\\\TFM\\\\paquetes\\\\ffmpeg-2025-04-23-git-25b0a8e295-full_build\\\\ffmpeg-2025-04-23-git-25b0a8e295-full_build\\\\bin\"\n"
   ]
  },
  {
   "cell_type": "code",
   "execution_count": 143,
   "metadata": {},
   "outputs": [
    {
     "name": "stdout",
     "output_type": "stream",
     "text": [
      "7.1-essentials_build-www.gyan.dev\n"
     ]
    }
   ],
   "source": [
    "import imageio_ffmpeg\n",
    "print(imageio_ffmpeg.get_ffmpeg_version())\n"
   ]
  },
  {
   "cell_type": "code",
   "execution_count": 115,
   "metadata": {},
   "outputs": [],
   "source": [
    "#pip install numpy==1.23.5\n"
   ]
  },
  {
   "cell_type": "code",
   "execution_count": 116,
   "metadata": {},
   "outputs": [],
   "source": [
    "# 🔄 Fuerza la reinstalación de stempeg\n",
    "#!pip install --no-cache-dir --force-reinstall stempeg"
   ]
  },
  {
   "cell_type": "code",
   "execution_count": 117,
   "metadata": {},
   "outputs": [],
   "source": [
    "#!pip uninstall numpy -y\n",
    "#!pip install numpy==1.23.5"
   ]
  },
  {
   "cell_type": "code",
   "execution_count": 118,
   "metadata": {},
   "outputs": [
    {
     "name": "stdout",
     "output_type": "stream",
     "text": [
      "Numpy Version: 1.23.5\n"
     ]
    }
   ],
   "source": [
    "# 📢 Verifica la versión correcta de NumPy\n",
    "import numpy as np\n",
    "print(f\"Numpy Version: {np.__version__}\")"
   ]
  },
  {
   "cell_type": "code",
   "execution_count": 119,
   "metadata": {},
   "outputs": [
    {
     "name": "stdout",
     "output_type": "stream",
     "text": [
      "Stempeg instalado en: c:\\Python37\\lib\\site-packages\\stempeg\\__init__.py\n"
     ]
    }
   ],
   "source": [
    "# 🔍 Verifica si stempeg está en el entorno correcto\n",
    "import stempeg\n",
    "print(f\"Stempeg instalado en: {stempeg.__file__}\")"
   ]
  },
  {
   "cell_type": "code",
   "execution_count": 120,
   "metadata": {},
   "outputs": [],
   "source": [
    "#!pip uninstall musdb stempeg -y\n",
    "#!pip install musdb stempeg\n"
   ]
  },
  {
   "cell_type": "code",
   "execution_count": 121,
   "metadata": {},
   "outputs": [
    {
     "name": "stdout",
     "output_type": "stream",
     "text": [
      "7.1-essentials_build-www.gyan.dev\n"
     ]
    }
   ],
   "source": [
    "import musdb\n",
    "import imageio_ffmpeg\n",
    "print(imageio_ffmpeg.get_ffmpeg_version())\n"
   ]
  },
  {
   "cell_type": "code",
   "execution_count": 144,
   "metadata": {},
   "outputs": [
    {
     "name": "stdout",
     "output_type": "stream",
     "text": [
      "Collecting ffmpeg\n",
      "  Downloading ffmpeg-1.4.tar.gz (5.1 kB)\n",
      "  Preparing metadata (setup.py): started\n",
      "  Preparing metadata (setup.py): finished with status 'done'\n",
      "Building wheels for collected packages: ffmpeg\n",
      "  Building wheel for ffmpeg (setup.py): started\n",
      "  Building wheel for ffmpeg (setup.py): finished with status 'done'\n",
      "  Created wheel for ffmpeg: filename=ffmpeg-1.4-py3-none-any.whl size=6083 sha256=90da71a71f3e5160402d0776d39df417490e656f5a6856d77453495a97629b48\n",
      "  Stored in directory: c:\\users\\ramiro brie\\appdata\\local\\pip\\cache\\wheels\\1d\\57\\24\\4eff6a03a9ea0e647568e8a5a0546cdf957e3cf005372c0245\n",
      "Successfully built ffmpeg\n",
      "Installing collected packages: ffmpeg\n",
      "Successfully installed ffmpeg-1.4\n"
     ]
    },
    {
     "name": "stderr",
     "output_type": "stream",
     "text": [
      "WARNING: Ignoring invalid distribution -orch (c:\\python37\\lib\\site-packages)\n",
      "WARNING: Ignoring invalid distribution -orch (c:\\python37\\lib\\site-packages)\n",
      "WARNING: Ignoring invalid distribution -orch (c:\\python37\\lib\\site-packages)\n"
     ]
    }
   ],
   "source": [
    "# !pip install ffmpeg\n",
    "\n"
   ]
  },
  {
   "cell_type": "code",
   "execution_count": 146,
   "metadata": {},
   "outputs": [
    {
     "name": "stdout",
     "output_type": "stream",
     "text": [
      "ffmpeg version 2025-04-23-git-25b0a8e295-full_build-www.gyan.dev Copyright (c) 2000-2025 the FFmpeg developers\n",
      "built with gcc 14.2.0 (Rev3, Built by MSYS2 project)\n",
      "configuration: --enable-gpl --enable-version3 --enable-static --disable-w32threads --disable-autodetect --enable-fontconfig --enable-iconv --enable-gnutls --enable-lcms2 --enable-libxml2 --enable-gmp --enable-bzlib --enable-lzma --enable-libsnappy --enable-zlib --enable-librist --enable-libsrt --enable-libssh --enable-libzmq --enable-avisynth --enable-libbluray --enable-libcaca --enable-libdvdnav --enable-libdvdread --enable-sdl2 --enable-libaribb24 --enable-libaribcaption --enable-libdav1d --enable-libdavs2 --enable-libopenjpeg --enable-libquirc --enable-libuavs3d --enable-libxevd --enable-libzvbi --enable-libqrencode --enable-librav1e --enable-libsvtav1 --enable-libvvenc --enable-libwebp --enable-libx264 --enable-libx265 --enable-libxavs2 --enable-libxeve --enable-libxvid --enable-libaom --enable-libjxl --enable-libvpx --enable-mediafoundation --enable-libass --enable-frei0r --enable-libfreetype --enable-libfribidi --enable-libharfbuzz --enable-liblensfun --enable-libvidstab --enable-libvmaf --enable-libzimg --enable-amf --enable-cuda-llvm --enable-cuvid --enable-dxva2 --enable-d3d11va --enable-d3d12va --enable-ffnvcodec --enable-libvpl --enable-nvdec --enable-nvenc --enable-vaapi --enable-libshaderc --enable-vulkan --enable-libplacebo --enable-opencl --enable-libcdio --enable-libgme --enable-libmodplug --enable-libopenmpt --enable-libopencore-amrwb --enable-libmp3lame --enable-libshine --enable-libtheora --enable-libtwolame --enable-libvo-amrwbenc --enable-libcodec2 --enable-libilbc --enable-libgsm --enable-liblc3 --enable-libopencore-amrnb --enable-libopus --enable-libspeex --enable-libvorbis --enable-ladspa --enable-libbs2b --enable-libflite --enable-libmysofa --enable-librubberband --enable-libsoxr --enable-chromaprint\n",
      "libavutil      60.  2.100 / 60.  2.100\n",
      "libavcodec     62.  0.101 / 62.  0.101\n",
      "libavformat    62.  0.100 / 62.  0.100\n",
      "libavdevice    62.  0.100 / 62.  0.100\n",
      "libavfilter    11.  0.100 / 11.  0.100\n",
      "libswscale      9.  0.100 /  9.  0.100\n",
      "libswresample   6.  0.100 /  6.  0.100\n",
      "libpostproc    59.  1.100 / 59.  1.100\n"
     ]
    }
   ],
   "source": [
    "!ffmpeg -version\n"
   ]
  },
  {
   "cell_type": "code",
   "execution_count": 147,
   "metadata": {},
   "outputs": [
    {
     "name": "stderr",
     "output_type": "stream",
     "text": [
      "\n",
      "0it [00:00, ?it/s]\n",
      "0it [00:00, ?it/s]\n"
     ]
    }
   ],
   "source": [
    "!musdbconvert \"C:/Users/Ramiro Brie/Desktop/UPC_IA_GITHUB/TFM/compressed_database/extracted_database/train\" \"C:/Users/Ramiro Brie/Desktop/UPC_IA_GITHUB/TFM/compressed_database/musdb_wav/train\"\n"
   ]
  },
  {
   "cell_type": "code",
   "execution_count": 149,
   "metadata": {},
   "outputs": [
    {
     "name": "stdout",
     "output_type": "stream",
     "text": [
      "Requirement already satisfied: musdb in c:\\python37\\lib\\site-packages (0.4.2)\n",
      "Requirement already satisfied: stempeg in c:\\python37\\lib\\site-packages (0.2.3)\n",
      "Requirement already satisfied: numpy>=1.7 in c:\\python37\\lib\\site-packages (from musdb) (1.23.5)\n",
      "Requirement already satisfied: pyaml in c:\\python37\\lib\\site-packages (from musdb) (25.1.0)\n",
      "Requirement already satisfied: tqdm in c:\\python37\\lib\\site-packages (from musdb) (4.67.1)\n",
      "Requirement already satisfied: ffmpeg-python>=0.2.0 in c:\\python37\\lib\\site-packages (from stempeg) (0.2.0)\n",
      "Requirement already satisfied: future in c:\\python37\\lib\\site-packages (from ffmpeg-python>=0.2.0->stempeg) (1.0.0)\n",
      "Requirement already satisfied: PyYAML in c:\\python37\\lib\\site-packages (from pyaml->musdb) (6.0.2)\n",
      "Requirement already satisfied: colorama in c:\\python37\\lib\\site-packages (from tqdm->musdb) (0.4.6)\n"
     ]
    },
    {
     "name": "stderr",
     "output_type": "stream",
     "text": [
      "WARNING: Ignoring invalid distribution -orch (c:\\python37\\lib\\site-packages)\n",
      "WARNING: Ignoring invalid distribution -orch (c:\\python37\\lib\\site-packages)\n",
      "WARNING: Ignoring invalid distribution -orch (c:\\python37\\lib\\site-packages)\n"
     ]
    }
   ],
   "source": [
    "# !pip install musdb stempeg\n"
   ]
  },
  {
   "cell_type": "code",
   "execution_count": 151,
   "metadata": {},
   "outputs": [
    {
     "name": "stdout",
     "output_type": "stream",
     "text": [
      "MusDB is installed successfully!\n"
     ]
    }
   ],
   "source": [
    "import musdb\n",
    "print(\"MusDB is installed successfully!\")\n",
    "\n"
   ]
  },
  {
   "cell_type": "code",
   "execution_count": 152,
   "metadata": {},
   "outputs": [
    {
     "name": "stdout",
     "output_type": "stream",
     "text": [
      "musdb version: 0.4.2\n",
      "stempeg version: 0.2.3\n"
     ]
    }
   ],
   "source": [
    "import pkg_resources\n",
    "\n",
    "musdb_version = pkg_resources.get_distribution(\"musdb\").version\n",
    "stempeg_version = pkg_resources.get_distribution(\"stempeg\").version\n",
    "\n",
    "print(f\"musdb version: {musdb_version}\")\n",
    "print(f\"stempeg version: {stempeg_version}\")\n"
   ]
  },
  {
   "cell_type": "markdown",
   "metadata": {},
   "source": [
    "### Setting up musdb"
   ]
  },
  {
   "cell_type": "code",
   "execution_count": null,
   "metadata": {},
   "outputs": [],
   "source": []
  },
  {
   "cell_type": "code",
   "execution_count": 122,
   "metadata": {},
   "outputs": [
    {
     "data": {
      "text/plain": [
       "array([[-8.84704590e-02, -3.79333496e-02],\n",
       "       [-1.07421875e-01, -5.22460938e-02],\n",
       "       [-8.42590332e-02, -5.48400879e-02],\n",
       "       ...,\n",
       "       [-8.23974609e-04,  3.05175781e-05],\n",
       "       [-8.54492188e-04,  7.01904297e-04],\n",
       "       [-8.54492188e-04,  1.31225586e-03]])"
      ]
     },
     "execution_count": 122,
     "metadata": {},
     "output_type": "execute_result"
    }
   ],
   "source": [
    "import musdb\n",
    "mus = musdb.DB(download=True)\n",
    "mus[0].audio"
   ]
  },
  {
   "cell_type": "markdown",
   "metadata": {},
   "source": [
    "### To use the full dataset, set a dataset root directory"
   ]
  },
  {
   "cell_type": "code",
   "execution_count": 123,
   "metadata": {},
   "outputs": [],
   "source": [
    "mus = musdb.DB(root=\"C:/Users/Ramiro Brie/Desktop/UPC_IA_GITHUB/TFM/compressed_database/1117372.zip\")"
   ]
  },
  {
   "cell_type": "code",
   "execution_count": 124,
   "metadata": {},
   "outputs": [],
   "source": [
    "### \n",
    "### 1️⃣ Extract .stem files from the ZIP archive 2️⃣ Convert STEM files to WAV using musdbconvert 3️⃣ Generate spectrograms from the WAV files"
   ]
  },
  {
   "cell_type": "markdown",
   "metadata": {},
   "source": [
    "### 1️⃣ Extract ZIP contents"
   ]
  },
  {
   "cell_type": "code",
   "execution_count": 125,
   "metadata": {},
   "outputs": [],
   "source": [
    "# #### 1️⃣ Extract ZIP contents\n",
    "# import zipfile\n",
    "# import os\n",
    "\n",
    "# zip_path = \"C:/Users/Ramiro Brie/Desktop/UPC_IA_GITHUB/TFM/compressed_database/1117372.zip\"\n",
    "# extract_path = \"C:/Users/Ramiro Brie/Desktop/UPC_IA_GITHUB/TFM/compressed_database/extracted_database\"\n",
    "\n",
    "# # Extract ZIP\n",
    "# with zipfile.ZipFile(zip_path, 'r') as zip_ref:\n",
    "#     zip_ref.extractall(extract_path)\n",
    "\n",
    "# print(f\"✅ Files extracted to: {extract_path}\")"
   ]
  },
  {
   "cell_type": "code",
   "execution_count": null,
   "metadata": {},
   "outputs": [
    {
     "name": "stdout",
     "output_type": "stream",
     "text": [
      "✅ All ZIPs extracted successfully!\n",
      "Train folder exists? True\n",
      "Test folder exists? True\n"
     ]
    }
   ],
   "source": [
    "# import zipfile\n",
    "# import os\n",
    "\n",
    "# # Paths\n",
    "# root_zip = \"C:/Users/Ramiro Brie/Desktop/UPC_IA_GITHUB/TFM/compressed_database/1117372.zip\"\n",
    "# extract_path = \"C:/Users/Ramiro Brie/Desktop/UPC_IA_GITHUB/TFM/compressed_database/extracted_database\"\n",
    "# musdb_zip = os.path.join(extract_path, \"musdb18.zip\")  # This is the second ZIP inside\n",
    "\n",
    "# # 1️⃣ Extract the first ZIP\n",
    "# with zipfile.ZipFile(root_zip, 'r') as zip_ref:\n",
    "#     zip_ref.extractall(extract_path)\n",
    "\n",
    "# # 2️⃣ Extract musdb18.zip if found\n",
    "# if os.path.exists(musdb_zip):\n",
    "#     with zipfile.ZipFile(musdb_zip, 'r') as zip_ref:\n",
    "#         zip_ref.extractall(extract_path)\n",
    "\n",
    "# print(\"✅ All ZIPs extracted successfully!\")\n",
    "\n",
    "# # 3️⃣ Verify extracted folders\n",
    "# train_folder = os.path.join(extract_path, \"train\")\n",
    "# test_folder = os.path.join(extract_path, \"test\")\n",
    "\n",
    "# print(\"Train folder exists?\", os.path.exists(train_folder))\n",
    "# print(\"Test folder exists?\", os.path.exists(test_folder))\n"
   ]
  },
  {
   "cell_type": "markdown",
   "metadata": {},
   "source": [
    "### 2️⃣ Convert STEM files to WAV"
   ]
  },
  {
   "cell_type": "markdown",
   "metadata": {},
   "source": [
    "what is the .wav file?"
   ]
  },
  {
   "cell_type": "markdown",
   "metadata": {},
   "source": [
    "A .wav file, also known as Waveform Audio File Format (WAVE), is a standard audio file format developed by IBM and Microsoft. It stores raw, uncompressed audio data, making it ideal for high-quality sound recordings. Unlike compressed formats like MP3, .wav files retain full audio fidelity but tend to be larger in size.\n",
    "\n",
    "They are commonly used in professional audio editing, music production, and sound design because they preserve the original sound quality without loss. Most media players, including Windows Media Player and QuickTime, can open and play .wav files."
   ]
  },
  {
   "cell_type": "markdown",
   "metadata": {},
   "source": [
    "#### Convert stem files to wav files using MUSDBCONVERT"
   ]
  },
  {
   "cell_type": "markdown",
   "metadata": {},
   "source": [
    "Uses the built-in musdbconvert function, specifically designed for handling MUSDB18 .stem.mp4 files, ensuring compatibility with the dataset structure."
   ]
  },
  {
   "cell_type": "code",
   "execution_count": 153,
   "metadata": {},
   "outputs": [
    {
     "name": "stdout",
     "output_type": "stream",
     "text": [
      "✅ Converted A Classic Education - NightOwl.stem.mp4 to C:/Users/Ramiro Brie/Desktop/UPC_IA_GITHUB/TFM/compressed_database/musdb_wav/train\\A Classic Education - NightOwl.wav\n",
      "✅ Converted Actions - Devil's Words.stem.mp4 to C:/Users/Ramiro Brie/Desktop/UPC_IA_GITHUB/TFM/compressed_database/musdb_wav/train\\Actions - Devil's Words.wav\n",
      "✅ Converted Actions - One Minute Smile.stem.mp4 to C:/Users/Ramiro Brie/Desktop/UPC_IA_GITHUB/TFM/compressed_database/musdb_wav/train\\Actions - One Minute Smile.wav\n",
      "✅ Converted Actions - South Of The Water.stem.mp4 to C:/Users/Ramiro Brie/Desktop/UPC_IA_GITHUB/TFM/compressed_database/musdb_wav/train\\Actions - South Of The Water.wav\n",
      "✅ Converted Aimee Norwich - Child.stem.mp4 to C:/Users/Ramiro Brie/Desktop/UPC_IA_GITHUB/TFM/compressed_database/musdb_wav/train\\Aimee Norwich - Child.wav\n",
      "✅ Converted Alexander Ross - Goodbye Bolero.stem.mp4 to C:/Users/Ramiro Brie/Desktop/UPC_IA_GITHUB/TFM/compressed_database/musdb_wav/train\\Alexander Ross - Goodbye Bolero.wav\n",
      "✅ Converted Alexander Ross - Velvet Curtain.stem.mp4 to C:/Users/Ramiro Brie/Desktop/UPC_IA_GITHUB/TFM/compressed_database/musdb_wav/train\\Alexander Ross - Velvet Curtain.wav\n",
      "✅ Converted Angela Thomas Wade - Milk Cow Blues.stem.mp4 to C:/Users/Ramiro Brie/Desktop/UPC_IA_GITHUB/TFM/compressed_database/musdb_wav/train\\Angela Thomas Wade - Milk Cow Blues.wav\n",
      "✅ Converted ANiMAL - Clinic A.stem.mp4 to C:/Users/Ramiro Brie/Desktop/UPC_IA_GITHUB/TFM/compressed_database/musdb_wav/train\\ANiMAL - Clinic A.wav\n",
      "✅ Converted ANiMAL - Easy Tiger.stem.mp4 to C:/Users/Ramiro Brie/Desktop/UPC_IA_GITHUB/TFM/compressed_database/musdb_wav/train\\ANiMAL - Easy Tiger.wav\n",
      "✅ Converted ANiMAL - Rockshow.stem.mp4 to C:/Users/Ramiro Brie/Desktop/UPC_IA_GITHUB/TFM/compressed_database/musdb_wav/train\\ANiMAL - Rockshow.wav\n",
      "✅ Converted Atlantis Bound - It Was My Fault For Waiting.stem.mp4 to C:/Users/Ramiro Brie/Desktop/UPC_IA_GITHUB/TFM/compressed_database/musdb_wav/train\\Atlantis Bound - It Was My Fault For Waiting.wav\n",
      "✅ Converted Auctioneer - Our Future Faces.stem.mp4 to C:/Users/Ramiro Brie/Desktop/UPC_IA_GITHUB/TFM/compressed_database/musdb_wav/train\\Auctioneer - Our Future Faces.wav\n",
      "✅ Converted AvaLuna - Waterduct.stem.mp4 to C:/Users/Ramiro Brie/Desktop/UPC_IA_GITHUB/TFM/compressed_database/musdb_wav/train\\AvaLuna - Waterduct.wav\n",
      "✅ Converted BigTroubles - Phantom.stem.mp4 to C:/Users/Ramiro Brie/Desktop/UPC_IA_GITHUB/TFM/compressed_database/musdb_wav/train\\BigTroubles - Phantom.wav\n",
      "✅ Converted Bill Chudziak - Children Of No-one.stem.mp4 to C:/Users/Ramiro Brie/Desktop/UPC_IA_GITHUB/TFM/compressed_database/musdb_wav/train\\Bill Chudziak - Children Of No-one.wav\n",
      "✅ Converted Black Bloc - If You Want Success.stem.mp4 to C:/Users/Ramiro Brie/Desktop/UPC_IA_GITHUB/TFM/compressed_database/musdb_wav/train\\Black Bloc - If You Want Success.wav\n",
      "✅ Converted Celestial Shore - Die For Us.stem.mp4 to C:/Users/Ramiro Brie/Desktop/UPC_IA_GITHUB/TFM/compressed_database/musdb_wav/train\\Celestial Shore - Die For Us.wav\n",
      "✅ Converted Chris Durban - Celebrate.stem.mp4 to C:/Users/Ramiro Brie/Desktop/UPC_IA_GITHUB/TFM/compressed_database/musdb_wav/train\\Chris Durban - Celebrate.wav\n",
      "✅ Converted Clara Berry And Wooldog - Air Traffic.stem.mp4 to C:/Users/Ramiro Brie/Desktop/UPC_IA_GITHUB/TFM/compressed_database/musdb_wav/train\\Clara Berry And Wooldog - Air Traffic.wav\n",
      "✅ Converted Clara Berry And Wooldog - Stella.stem.mp4 to C:/Users/Ramiro Brie/Desktop/UPC_IA_GITHUB/TFM/compressed_database/musdb_wav/train\\Clara Berry And Wooldog - Stella.wav\n",
      "✅ Converted Clara Berry And Wooldog - Waltz For My Victims.stem.mp4 to C:/Users/Ramiro Brie/Desktop/UPC_IA_GITHUB/TFM/compressed_database/musdb_wav/train\\Clara Berry And Wooldog - Waltz For My Victims.wav\n",
      "✅ Converted Cnoc An Tursa - Bannockburn.stem.mp4 to C:/Users/Ramiro Brie/Desktop/UPC_IA_GITHUB/TFM/compressed_database/musdb_wav/train\\Cnoc An Tursa - Bannockburn.wav\n",
      "✅ Converted Creepoid - OldTree.stem.mp4 to C:/Users/Ramiro Brie/Desktop/UPC_IA_GITHUB/TFM/compressed_database/musdb_wav/train\\Creepoid - OldTree.wav\n",
      "✅ Converted Dark Ride - Burning Bridges.stem.mp4 to C:/Users/Ramiro Brie/Desktop/UPC_IA_GITHUB/TFM/compressed_database/musdb_wav/train\\Dark Ride - Burning Bridges.wav\n",
      "✅ Converted Dreamers Of The Ghetto - Heavy Love.stem.mp4 to C:/Users/Ramiro Brie/Desktop/UPC_IA_GITHUB/TFM/compressed_database/musdb_wav/train\\Dreamers Of The Ghetto - Heavy Love.wav\n",
      "✅ Converted Drumtracks - Ghost Bitch.stem.mp4 to C:/Users/Ramiro Brie/Desktop/UPC_IA_GITHUB/TFM/compressed_database/musdb_wav/train\\Drumtracks - Ghost Bitch.wav\n",
      "✅ Converted Faces On Film - Waiting For Ga.stem.mp4 to C:/Users/Ramiro Brie/Desktop/UPC_IA_GITHUB/TFM/compressed_database/musdb_wav/train\\Faces On Film - Waiting For Ga.wav\n",
      "✅ Converted Fergessen - Back From The Start.stem.mp4 to C:/Users/Ramiro Brie/Desktop/UPC_IA_GITHUB/TFM/compressed_database/musdb_wav/train\\Fergessen - Back From The Start.wav\n",
      "✅ Converted Fergessen - Nos Palpitants.stem.mp4 to C:/Users/Ramiro Brie/Desktop/UPC_IA_GITHUB/TFM/compressed_database/musdb_wav/train\\Fergessen - Nos Palpitants.wav\n",
      "✅ Converted Fergessen - The Wind.stem.mp4 to C:/Users/Ramiro Brie/Desktop/UPC_IA_GITHUB/TFM/compressed_database/musdb_wav/train\\Fergessen - The Wind.wav\n",
      "✅ Converted Flags - 54.stem.mp4 to C:/Users/Ramiro Brie/Desktop/UPC_IA_GITHUB/TFM/compressed_database/musdb_wav/train\\Flags - 54.wav\n",
      "✅ Converted Giselle - Moss.stem.mp4 to C:/Users/Ramiro Brie/Desktop/UPC_IA_GITHUB/TFM/compressed_database/musdb_wav/train\\Giselle - Moss.wav\n",
      "✅ Converted Grants - PunchDrunk.stem.mp4 to C:/Users/Ramiro Brie/Desktop/UPC_IA_GITHUB/TFM/compressed_database/musdb_wav/train\\Grants - PunchDrunk.wav\n",
      "✅ Converted Helado Negro - Mitad Del Mundo.stem.mp4 to C:/Users/Ramiro Brie/Desktop/UPC_IA_GITHUB/TFM/compressed_database/musdb_wav/train\\Helado Negro - Mitad Del Mundo.wav\n",
      "✅ Converted Hezekiah Jones - Borrowed Heart.stem.mp4 to C:/Users/Ramiro Brie/Desktop/UPC_IA_GITHUB/TFM/compressed_database/musdb_wav/train\\Hezekiah Jones - Borrowed Heart.wav\n",
      "✅ Converted Hollow Ground - Left Blind.stem.mp4 to C:/Users/Ramiro Brie/Desktop/UPC_IA_GITHUB/TFM/compressed_database/musdb_wav/train\\Hollow Ground - Left Blind.wav\n",
      "✅ Converted Hop Along - Sister Cities.stem.mp4 to C:/Users/Ramiro Brie/Desktop/UPC_IA_GITHUB/TFM/compressed_database/musdb_wav/train\\Hop Along - Sister Cities.wav\n",
      "✅ Converted Invisible Familiars - Disturbing Wildlife.stem.mp4 to C:/Users/Ramiro Brie/Desktop/UPC_IA_GITHUB/TFM/compressed_database/musdb_wav/train\\Invisible Familiars - Disturbing Wildlife.wav\n",
      "✅ Converted James May - All Souls Moon.stem.mp4 to C:/Users/Ramiro Brie/Desktop/UPC_IA_GITHUB/TFM/compressed_database/musdb_wav/train\\James May - All Souls Moon.wav\n",
      "✅ Converted James May - Dont Let Go.stem.mp4 to C:/Users/Ramiro Brie/Desktop/UPC_IA_GITHUB/TFM/compressed_database/musdb_wav/train\\James May - Dont Let Go.wav\n",
      "✅ Converted James May - If You Say.stem.mp4 to C:/Users/Ramiro Brie/Desktop/UPC_IA_GITHUB/TFM/compressed_database/musdb_wav/train\\James May - If You Say.wav\n",
      "✅ Converted James May - On The Line.stem.mp4 to C:/Users/Ramiro Brie/Desktop/UPC_IA_GITHUB/TFM/compressed_database/musdb_wav/train\\James May - On The Line.wav\n",
      "✅ Converted Jay Menon - Through My Eyes.stem.mp4 to C:/Users/Ramiro Brie/Desktop/UPC_IA_GITHUB/TFM/compressed_database/musdb_wav/train\\Jay Menon - Through My Eyes.wav\n",
      "✅ Converted Johnny Lokke - Promises & Lies.stem.mp4 to C:/Users/Ramiro Brie/Desktop/UPC_IA_GITHUB/TFM/compressed_database/musdb_wav/train\\Johnny Lokke - Promises & Lies.wav\n",
      "✅ Converted Johnny Lokke - Whisper To A Scream.stem.mp4 to C:/Users/Ramiro Brie/Desktop/UPC_IA_GITHUB/TFM/compressed_database/musdb_wav/train\\Johnny Lokke - Whisper To A Scream.wav\n",
      "✅ Converted Jokers, Jacks & Kings - Sea Of Leaves.stem.mp4 to C:/Users/Ramiro Brie/Desktop/UPC_IA_GITHUB/TFM/compressed_database/musdb_wav/train\\Jokers, Jacks & Kings - Sea Of Leaves.wav\n",
      "✅ Converted Leaf - Come Around.stem.mp4 to C:/Users/Ramiro Brie/Desktop/UPC_IA_GITHUB/TFM/compressed_database/musdb_wav/train\\Leaf - Come Around.wav\n",
      "✅ Converted Leaf - Summerghost.stem.mp4 to C:/Users/Ramiro Brie/Desktop/UPC_IA_GITHUB/TFM/compressed_database/musdb_wav/train\\Leaf - Summerghost.wav\n",
      "✅ Converted Leaf - Wicked.stem.mp4 to C:/Users/Ramiro Brie/Desktop/UPC_IA_GITHUB/TFM/compressed_database/musdb_wav/train\\Leaf - Wicked.wav\n",
      "✅ Converted Lushlife - Toynbee Suite.stem.mp4 to C:/Users/Ramiro Brie/Desktop/UPC_IA_GITHUB/TFM/compressed_database/musdb_wav/train\\Lushlife - Toynbee Suite.wav\n",
      "✅ Converted Matthew Entwistle - Dont You Ever.stem.mp4 to C:/Users/Ramiro Brie/Desktop/UPC_IA_GITHUB/TFM/compressed_database/musdb_wav/train\\Matthew Entwistle - Dont You Ever.wav\n",
      "✅ Converted Meaxic - Take A Step.stem.mp4 to C:/Users/Ramiro Brie/Desktop/UPC_IA_GITHUB/TFM/compressed_database/musdb_wav/train\\Meaxic - Take A Step.wav\n",
      "✅ Converted Meaxic - You Listen.stem.mp4 to C:/Users/Ramiro Brie/Desktop/UPC_IA_GITHUB/TFM/compressed_database/musdb_wav/train\\Meaxic - You Listen.wav\n",
      "✅ Converted Music Delta - 80s Rock.stem.mp4 to C:/Users/Ramiro Brie/Desktop/UPC_IA_GITHUB/TFM/compressed_database/musdb_wav/train\\Music Delta - 80s Rock.wav\n",
      "✅ Converted Music Delta - Beatles.stem.mp4 to C:/Users/Ramiro Brie/Desktop/UPC_IA_GITHUB/TFM/compressed_database/musdb_wav/train\\Music Delta - Beatles.wav\n",
      "✅ Converted Music Delta - Britpop.stem.mp4 to C:/Users/Ramiro Brie/Desktop/UPC_IA_GITHUB/TFM/compressed_database/musdb_wav/train\\Music Delta - Britpop.wav\n",
      "✅ Converted Music Delta - Country1.stem.mp4 to C:/Users/Ramiro Brie/Desktop/UPC_IA_GITHUB/TFM/compressed_database/musdb_wav/train\\Music Delta - Country1.wav\n",
      "✅ Converted Music Delta - Country2.stem.mp4 to C:/Users/Ramiro Brie/Desktop/UPC_IA_GITHUB/TFM/compressed_database/musdb_wav/train\\Music Delta - Country2.wav\n",
      "✅ Converted Music Delta - Disco.stem.mp4 to C:/Users/Ramiro Brie/Desktop/UPC_IA_GITHUB/TFM/compressed_database/musdb_wav/train\\Music Delta - Disco.wav\n",
      "✅ Converted Music Delta - Gospel.stem.mp4 to C:/Users/Ramiro Brie/Desktop/UPC_IA_GITHUB/TFM/compressed_database/musdb_wav/train\\Music Delta - Gospel.wav\n",
      "✅ Converted Music Delta - Grunge.stem.mp4 to C:/Users/Ramiro Brie/Desktop/UPC_IA_GITHUB/TFM/compressed_database/musdb_wav/train\\Music Delta - Grunge.wav\n",
      "✅ Converted Music Delta - Hendrix.stem.mp4 to C:/Users/Ramiro Brie/Desktop/UPC_IA_GITHUB/TFM/compressed_database/musdb_wav/train\\Music Delta - Hendrix.wav\n",
      "✅ Converted Music Delta - Punk.stem.mp4 to C:/Users/Ramiro Brie/Desktop/UPC_IA_GITHUB/TFM/compressed_database/musdb_wav/train\\Music Delta - Punk.wav\n",
      "✅ Converted Music Delta - Reggae.stem.mp4 to C:/Users/Ramiro Brie/Desktop/UPC_IA_GITHUB/TFM/compressed_database/musdb_wav/train\\Music Delta - Reggae.wav\n",
      "✅ Converted Music Delta - Rock.stem.mp4 to C:/Users/Ramiro Brie/Desktop/UPC_IA_GITHUB/TFM/compressed_database/musdb_wav/train\\Music Delta - Rock.wav\n",
      "✅ Converted Music Delta - Rockabilly.stem.mp4 to C:/Users/Ramiro Brie/Desktop/UPC_IA_GITHUB/TFM/compressed_database/musdb_wav/train\\Music Delta - Rockabilly.wav\n",
      "✅ Converted Night Panther - Fire.stem.mp4 to C:/Users/Ramiro Brie/Desktop/UPC_IA_GITHUB/TFM/compressed_database/musdb_wav/train\\Night Panther - Fire.wav\n",
      "✅ Converted North To Alaska - All The Same.stem.mp4 to C:/Users/Ramiro Brie/Desktop/UPC_IA_GITHUB/TFM/compressed_database/musdb_wav/train\\North To Alaska - All The Same.wav\n",
      "✅ Converted Patrick Talbot - A Reason To Leave.stem.mp4 to C:/Users/Ramiro Brie/Desktop/UPC_IA_GITHUB/TFM/compressed_database/musdb_wav/train\\Patrick Talbot - A Reason To Leave.wav\n",
      "✅ Converted Patrick Talbot - Set Me Free.stem.mp4 to C:/Users/Ramiro Brie/Desktop/UPC_IA_GITHUB/TFM/compressed_database/musdb_wav/train\\Patrick Talbot - Set Me Free.wav\n",
      "✅ Converted Phre The Eon - Everybody's Falling Apart.stem.mp4 to C:/Users/Ramiro Brie/Desktop/UPC_IA_GITHUB/TFM/compressed_database/musdb_wav/train\\Phre The Eon - Everybody's Falling Apart.wav\n",
      "✅ Converted Port St Willow - Stay Even.stem.mp4 to C:/Users/Ramiro Brie/Desktop/UPC_IA_GITHUB/TFM/compressed_database/musdb_wav/train\\Port St Willow - Stay Even.wav\n",
      "✅ Converted Remember December - C U Next Time.stem.mp4 to C:/Users/Ramiro Brie/Desktop/UPC_IA_GITHUB/TFM/compressed_database/musdb_wav/train\\Remember December - C U Next Time.wav\n",
      "✅ Converted Secret Mountains - High Horse.stem.mp4 to C:/Users/Ramiro Brie/Desktop/UPC_IA_GITHUB/TFM/compressed_database/musdb_wav/train\\Secret Mountains - High Horse.wav\n",
      "✅ Converted Skelpolu - Human Mistakes.stem.mp4 to C:/Users/Ramiro Brie/Desktop/UPC_IA_GITHUB/TFM/compressed_database/musdb_wav/train\\Skelpolu - Human Mistakes.wav\n",
      "✅ Converted Skelpolu - Together Alone.stem.mp4 to C:/Users/Ramiro Brie/Desktop/UPC_IA_GITHUB/TFM/compressed_database/musdb_wav/train\\Skelpolu - Together Alone.wav\n",
      "✅ Converted Snowmine - Curfews.stem.mp4 to C:/Users/Ramiro Brie/Desktop/UPC_IA_GITHUB/TFM/compressed_database/musdb_wav/train\\Snowmine - Curfews.wav\n",
      "✅ Converted Spike Mullings - Mike's Sulking.stem.mp4 to C:/Users/Ramiro Brie/Desktop/UPC_IA_GITHUB/TFM/compressed_database/musdb_wav/train\\Spike Mullings - Mike's Sulking.wav\n",
      "✅ Converted St Vitus - Word Gets Around.stem.mp4 to C:/Users/Ramiro Brie/Desktop/UPC_IA_GITHUB/TFM/compressed_database/musdb_wav/train\\St Vitus - Word Gets Around.wav\n",
      "✅ Converted Steven Clark - Bounty.stem.mp4 to C:/Users/Ramiro Brie/Desktop/UPC_IA_GITHUB/TFM/compressed_database/musdb_wav/train\\Steven Clark - Bounty.wav\n",
      "✅ Converted Strand Of Oaks - Spacestation.stem.mp4 to C:/Users/Ramiro Brie/Desktop/UPC_IA_GITHUB/TFM/compressed_database/musdb_wav/train\\Strand Of Oaks - Spacestation.wav\n",
      "✅ Converted Sweet Lights - You Let Me Down.stem.mp4 to C:/Users/Ramiro Brie/Desktop/UPC_IA_GITHUB/TFM/compressed_database/musdb_wav/train\\Sweet Lights - You Let Me Down.wav\n",
      "✅ Converted Swinging Steaks - Lost My Way.stem.mp4 to C:/Users/Ramiro Brie/Desktop/UPC_IA_GITHUB/TFM/compressed_database/musdb_wav/train\\Swinging Steaks - Lost My Way.wav\n",
      "✅ Converted The Districts - Vermont.stem.mp4 to C:/Users/Ramiro Brie/Desktop/UPC_IA_GITHUB/TFM/compressed_database/musdb_wav/train\\The Districts - Vermont.wav\n",
      "✅ Converted The Long Wait - Back Home To Blue.stem.mp4 to C:/Users/Ramiro Brie/Desktop/UPC_IA_GITHUB/TFM/compressed_database/musdb_wav/train\\The Long Wait - Back Home To Blue.wav\n",
      "✅ Converted The Scarlet Brand - Les Fleurs Du Mal.stem.mp4 to C:/Users/Ramiro Brie/Desktop/UPC_IA_GITHUB/TFM/compressed_database/musdb_wav/train\\The Scarlet Brand - Les Fleurs Du Mal.wav\n",
      "✅ Converted The So So Glos - Emergency.stem.mp4 to C:/Users/Ramiro Brie/Desktop/UPC_IA_GITHUB/TFM/compressed_database/musdb_wav/train\\The So So Glos - Emergency.wav\n",
      "✅ Converted The Wrong'Uns - Rothko.stem.mp4 to C:/Users/Ramiro Brie/Desktop/UPC_IA_GITHUB/TFM/compressed_database/musdb_wav/train\\The Wrong'Uns - Rothko.wav\n",
      "✅ Converted Tim Taler - Stalker.stem.mp4 to C:/Users/Ramiro Brie/Desktop/UPC_IA_GITHUB/TFM/compressed_database/musdb_wav/train\\Tim Taler - Stalker.wav\n",
      "✅ Converted Titanium - Haunted Age.stem.mp4 to C:/Users/Ramiro Brie/Desktop/UPC_IA_GITHUB/TFM/compressed_database/musdb_wav/train\\Titanium - Haunted Age.wav\n",
      "✅ Converted Traffic Experiment - Once More (With Feeling).stem.mp4 to C:/Users/Ramiro Brie/Desktop/UPC_IA_GITHUB/TFM/compressed_database/musdb_wav/train\\Traffic Experiment - Once More (With Feeling).wav\n",
      "✅ Converted Traffic Experiment - Sirens.stem.mp4 to C:/Users/Ramiro Brie/Desktop/UPC_IA_GITHUB/TFM/compressed_database/musdb_wav/train\\Traffic Experiment - Sirens.wav\n",
      "✅ Converted Triviul - Angelsaint.stem.mp4 to C:/Users/Ramiro Brie/Desktop/UPC_IA_GITHUB/TFM/compressed_database/musdb_wav/train\\Triviul - Angelsaint.wav\n",
      "✅ Converted Triviul - Dorothy.stem.mp4 to C:/Users/Ramiro Brie/Desktop/UPC_IA_GITHUB/TFM/compressed_database/musdb_wav/train\\Triviul - Dorothy.wav\n",
      "✅ Converted Voelund - Comfort Lives In Belief.stem.mp4 to C:/Users/Ramiro Brie/Desktop/UPC_IA_GITHUB/TFM/compressed_database/musdb_wav/train\\Voelund - Comfort Lives In Belief.wav\n",
      "✅ Converted Wall Of Death - Femme.stem.mp4 to C:/Users/Ramiro Brie/Desktop/UPC_IA_GITHUB/TFM/compressed_database/musdb_wav/train\\Wall Of Death - Femme.wav\n",
      "✅ Converted Young Griffo - Blood To Bone.stem.mp4 to C:/Users/Ramiro Brie/Desktop/UPC_IA_GITHUB/TFM/compressed_database/musdb_wav/train\\Young Griffo - Blood To Bone.wav\n",
      "✅ Converted Young Griffo - Facade.stem.mp4 to C:/Users/Ramiro Brie/Desktop/UPC_IA_GITHUB/TFM/compressed_database/musdb_wav/train\\Young Griffo - Facade.wav\n",
      "✅ Converted Young Griffo - Pennies.stem.mp4 to C:/Users/Ramiro Brie/Desktop/UPC_IA_GITHUB/TFM/compressed_database/musdb_wav/train\\Young Griffo - Pennies.wav\n",
      "✅ Converted Al James - Schoolboy Facination.stem.mp4 to C:/Users/Ramiro Brie/Desktop/UPC_IA_GITHUB/TFM/compressed_database/musdb_wav/test\\Al James - Schoolboy Facination.wav\n",
      "✅ Converted AM Contra - Heart Peripheral.stem.mp4 to C:/Users/Ramiro Brie/Desktop/UPC_IA_GITHUB/TFM/compressed_database/musdb_wav/test\\AM Contra - Heart Peripheral.wav\n",
      "✅ Converted Angels In Amplifiers - I'm Alright.stem.mp4 to C:/Users/Ramiro Brie/Desktop/UPC_IA_GITHUB/TFM/compressed_database/musdb_wav/test\\Angels In Amplifiers - I'm Alright.wav\n",
      "✅ Converted Arise - Run Run Run.stem.mp4 to C:/Users/Ramiro Brie/Desktop/UPC_IA_GITHUB/TFM/compressed_database/musdb_wav/test\\Arise - Run Run Run.wav\n",
      "✅ Converted Ben Carrigan - We'll Talk About It All Tonight.stem.mp4 to C:/Users/Ramiro Brie/Desktop/UPC_IA_GITHUB/TFM/compressed_database/musdb_wav/test\\Ben Carrigan - We'll Talk About It All Tonight.wav\n",
      "✅ Converted BKS - Bulldozer.stem.mp4 to C:/Users/Ramiro Brie/Desktop/UPC_IA_GITHUB/TFM/compressed_database/musdb_wav/test\\BKS - Bulldozer.wav\n",
      "✅ Converted BKS - Too Much.stem.mp4 to C:/Users/Ramiro Brie/Desktop/UPC_IA_GITHUB/TFM/compressed_database/musdb_wav/test\\BKS - Too Much.wav\n",
      "✅ Converted Bobby Nobody - Stitch Up.stem.mp4 to C:/Users/Ramiro Brie/Desktop/UPC_IA_GITHUB/TFM/compressed_database/musdb_wav/test\\Bobby Nobody - Stitch Up.wav\n",
      "✅ Converted Buitraker - Revo X.stem.mp4 to C:/Users/Ramiro Brie/Desktop/UPC_IA_GITHUB/TFM/compressed_database/musdb_wav/test\\Buitraker - Revo X.wav\n",
      "✅ Converted Carlos Gonzalez - A Place For Us.stem.mp4 to C:/Users/Ramiro Brie/Desktop/UPC_IA_GITHUB/TFM/compressed_database/musdb_wav/test\\Carlos Gonzalez - A Place For Us.wav\n",
      "✅ Converted Cristina Vane - So Easy.stem.mp4 to C:/Users/Ramiro Brie/Desktop/UPC_IA_GITHUB/TFM/compressed_database/musdb_wav/test\\Cristina Vane - So Easy.wav\n",
      "✅ Converted Detsky Sad - Walkie Talkie.stem.mp4 to C:/Users/Ramiro Brie/Desktop/UPC_IA_GITHUB/TFM/compressed_database/musdb_wav/test\\Detsky Sad - Walkie Talkie.wav\n",
      "✅ Converted Enda Reilly - Cur An Long Ag Seol.stem.mp4 to C:/Users/Ramiro Brie/Desktop/UPC_IA_GITHUB/TFM/compressed_database/musdb_wav/test\\Enda Reilly - Cur An Long Ag Seol.wav\n",
      "✅ Converted Forkupines - Semantics.stem.mp4 to C:/Users/Ramiro Brie/Desktop/UPC_IA_GITHUB/TFM/compressed_database/musdb_wav/test\\Forkupines - Semantics.wav\n",
      "✅ Converted Georgia Wonder - Siren.stem.mp4 to C:/Users/Ramiro Brie/Desktop/UPC_IA_GITHUB/TFM/compressed_database/musdb_wav/test\\Georgia Wonder - Siren.wav\n",
      "✅ Converted Girls Under Glass - We Feel Alright.stem.mp4 to C:/Users/Ramiro Brie/Desktop/UPC_IA_GITHUB/TFM/compressed_database/musdb_wav/test\\Girls Under Glass - We Feel Alright.wav\n",
      "✅ Converted Hollow Ground - Ill Fate.stem.mp4 to C:/Users/Ramiro Brie/Desktop/UPC_IA_GITHUB/TFM/compressed_database/musdb_wav/test\\Hollow Ground - Ill Fate.wav\n",
      "✅ Converted James Elder & Mark M Thompson - The English Actor.stem.mp4 to C:/Users/Ramiro Brie/Desktop/UPC_IA_GITHUB/TFM/compressed_database/musdb_wav/test\\James Elder & Mark M Thompson - The English Actor.wav\n",
      "✅ Converted Juliet's Rescue - Heartbeats.stem.mp4 to C:/Users/Ramiro Brie/Desktop/UPC_IA_GITHUB/TFM/compressed_database/musdb_wav/test\\Juliet's Rescue - Heartbeats.wav\n",
      "✅ Converted Little Chicago's Finest - My Own.stem.mp4 to C:/Users/Ramiro Brie/Desktop/UPC_IA_GITHUB/TFM/compressed_database/musdb_wav/test\\Little Chicago's Finest - My Own.wav\n",
      "✅ Converted Louis Cressy Band - Good Time.stem.mp4 to C:/Users/Ramiro Brie/Desktop/UPC_IA_GITHUB/TFM/compressed_database/musdb_wav/test\\Louis Cressy Band - Good Time.wav\n",
      "✅ Converted Lyndsey Ollard - Catching Up.stem.mp4 to C:/Users/Ramiro Brie/Desktop/UPC_IA_GITHUB/TFM/compressed_database/musdb_wav/test\\Lyndsey Ollard - Catching Up.wav\n",
      "✅ Converted M.E.R.C. Music - Knockout.stem.mp4 to C:/Users/Ramiro Brie/Desktop/UPC_IA_GITHUB/TFM/compressed_database/musdb_wav/test\\M.E.R.C. Music - Knockout.wav\n",
      "✅ Converted Moosmusic - Big Dummy Shake.stem.mp4 to C:/Users/Ramiro Brie/Desktop/UPC_IA_GITHUB/TFM/compressed_database/musdb_wav/test\\Moosmusic - Big Dummy Shake.wav\n",
      "✅ Converted Motor Tapes - Shore.stem.mp4 to C:/Users/Ramiro Brie/Desktop/UPC_IA_GITHUB/TFM/compressed_database/musdb_wav/test\\Motor Tapes - Shore.wav\n",
      "✅ Converted Mu - Too Bright.stem.mp4 to C:/Users/Ramiro Brie/Desktop/UPC_IA_GITHUB/TFM/compressed_database/musdb_wav/test\\Mu - Too Bright.wav\n",
      "✅ Converted Nerve 9 - Pray For The Rain.stem.mp4 to C:/Users/Ramiro Brie/Desktop/UPC_IA_GITHUB/TFM/compressed_database/musdb_wav/test\\Nerve 9 - Pray For The Rain.wav\n",
      "✅ Converted PR - Happy Daze.stem.mp4 to C:/Users/Ramiro Brie/Desktop/UPC_IA_GITHUB/TFM/compressed_database/musdb_wav/test\\PR - Happy Daze.wav\n",
      "✅ Converted PR - Oh No.stem.mp4 to C:/Users/Ramiro Brie/Desktop/UPC_IA_GITHUB/TFM/compressed_database/musdb_wav/test\\PR - Oh No.wav\n",
      "✅ Converted Punkdisco - Oral Hygiene.stem.mp4 to C:/Users/Ramiro Brie/Desktop/UPC_IA_GITHUB/TFM/compressed_database/musdb_wav/test\\Punkdisco - Oral Hygiene.wav\n",
      "✅ Converted Raft Monk - Tiring.stem.mp4 to C:/Users/Ramiro Brie/Desktop/UPC_IA_GITHUB/TFM/compressed_database/musdb_wav/test\\Raft Monk - Tiring.wav\n",
      "✅ Converted Sambasevam Shanmugam - Kaathaadi.stem.mp4 to C:/Users/Ramiro Brie/Desktop/UPC_IA_GITHUB/TFM/compressed_database/musdb_wav/test\\Sambasevam Shanmugam - Kaathaadi.wav\n",
      "✅ Converted Secretariat - Borderline.stem.mp4 to C:/Users/Ramiro Brie/Desktop/UPC_IA_GITHUB/TFM/compressed_database/musdb_wav/test\\Secretariat - Borderline.wav\n",
      "✅ Converted Secretariat - Over The Top.stem.mp4 to C:/Users/Ramiro Brie/Desktop/UPC_IA_GITHUB/TFM/compressed_database/musdb_wav/test\\Secretariat - Over The Top.wav\n",
      "✅ Converted Side Effects Project - Sing With Me.stem.mp4 to C:/Users/Ramiro Brie/Desktop/UPC_IA_GITHUB/TFM/compressed_database/musdb_wav/test\\Side Effects Project - Sing With Me.wav\n",
      "✅ Converted Signe Jakobsen - What Have You Done To Me.stem.mp4 to C:/Users/Ramiro Brie/Desktop/UPC_IA_GITHUB/TFM/compressed_database/musdb_wav/test\\Signe Jakobsen - What Have You Done To Me.wav\n",
      "✅ Converted Skelpolu - Resurrection.stem.mp4 to C:/Users/Ramiro Brie/Desktop/UPC_IA_GITHUB/TFM/compressed_database/musdb_wav/test\\Skelpolu - Resurrection.wav\n",
      "✅ Converted Speak Softly - Broken Man.stem.mp4 to C:/Users/Ramiro Brie/Desktop/UPC_IA_GITHUB/TFM/compressed_database/musdb_wav/test\\Speak Softly - Broken Man.wav\n",
      "✅ Converted Speak Softly - Like Horses.stem.mp4 to C:/Users/Ramiro Brie/Desktop/UPC_IA_GITHUB/TFM/compressed_database/musdb_wav/test\\Speak Softly - Like Horses.wav\n",
      "✅ Converted The Doppler Shift - Atrophy.stem.mp4 to C:/Users/Ramiro Brie/Desktop/UPC_IA_GITHUB/TFM/compressed_database/musdb_wav/test\\The Doppler Shift - Atrophy.wav\n",
      "✅ Converted The Easton Ellises (Baumi) - SDRNR.stem.mp4 to C:/Users/Ramiro Brie/Desktop/UPC_IA_GITHUB/TFM/compressed_database/musdb_wav/test\\The Easton Ellises (Baumi) - SDRNR.wav\n",
      "✅ Converted The Easton Ellises - Falcon 69.stem.mp4 to C:/Users/Ramiro Brie/Desktop/UPC_IA_GITHUB/TFM/compressed_database/musdb_wav/test\\The Easton Ellises - Falcon 69.wav\n",
      "✅ Converted The Long Wait - Dark Horses.stem.mp4 to C:/Users/Ramiro Brie/Desktop/UPC_IA_GITHUB/TFM/compressed_database/musdb_wav/test\\The Long Wait - Dark Horses.wav\n",
      "✅ Converted The Mountaineering Club - Mallory.stem.mp4 to C:/Users/Ramiro Brie/Desktop/UPC_IA_GITHUB/TFM/compressed_database/musdb_wav/test\\The Mountaineering Club - Mallory.wav\n",
      "✅ Converted The Sunshine Garcia Band - For I Am The Moon.stem.mp4 to C:/Users/Ramiro Brie/Desktop/UPC_IA_GITHUB/TFM/compressed_database/musdb_wav/test\\The Sunshine Garcia Band - For I Am The Moon.wav\n",
      "✅ Converted Timboz - Pony.stem.mp4 to C:/Users/Ramiro Brie/Desktop/UPC_IA_GITHUB/TFM/compressed_database/musdb_wav/test\\Timboz - Pony.wav\n",
      "✅ Converted Tom McKenzie - Directions.stem.mp4 to C:/Users/Ramiro Brie/Desktop/UPC_IA_GITHUB/TFM/compressed_database/musdb_wav/test\\Tom McKenzie - Directions.wav\n",
      "✅ Converted Triviul feat. The Fiend - Widow.stem.mp4 to C:/Users/Ramiro Brie/Desktop/UPC_IA_GITHUB/TFM/compressed_database/musdb_wav/test\\Triviul feat. The Fiend - Widow.wav\n",
      "✅ Converted We Fell From The Sky - Not You.stem.mp4 to C:/Users/Ramiro Brie/Desktop/UPC_IA_GITHUB/TFM/compressed_database/musdb_wav/test\\We Fell From The Sky - Not You.wav\n",
      "✅ Converted Zeno - Signs.stem.mp4 to C:/Users/Ramiro Brie/Desktop/UPC_IA_GITHUB/TFM/compressed_database/musdb_wav/test\\Zeno - Signs.wav\n",
      "🚀 All files have been successfully converted!\n"
     ]
    }
   ],
   "source": [
    "import os\n",
    "import stempeg\n",
    "import numpy as np\n",
    "\n",
    "# Define input and output folders\n",
    "folders = {\n",
    "    \"C:/Users/Ramiro Brie/Desktop/UPC_IA_GITHUB/TFM/compressed_database/extracted_database/train\":\n",
    "    \"C:/Users/Ramiro Brie/Desktop/UPC_IA_GITHUB/TFM/compressed_database/musdb_wav/train\",\n",
    "\n",
    "    \"C:/Users/Ramiro Brie/Desktop/UPC_IA_GITHUB/TFM/compressed_database/extracted_database/test\":\n",
    "    \"C:/Users/Ramiro Brie/Desktop/UPC_IA_GITHUB/TFM/compressed_database/musdb_wav/test\"\n",
    "}\n",
    "\n",
    "# Loop through each folder\n",
    "for input_folder, output_folder in folders.items():\n",
    "    os.makedirs(output_folder, exist_ok=True)\n",
    "\n",
    "    for file in os.listdir(input_folder):\n",
    "        if file.endswith(\".stem.mp4\"):\n",
    "            stem_file = os.path.join(input_folder, file)\n",
    "            base_name = os.path.splitext(file)[0].replace(\".stem\", \"\")\n",
    "            output_file = os.path.join(output_folder, f\"{base_name}.wav\")\n",
    "\n",
    "            # Extract the mix (stem_id=[0] typically represents the full mix)\n",
    "            audio, rate = stempeg.read_stems(stem_file, stem_id=[0])\n",
    "            #0 - The mixture,\n",
    "            #1 - The drums,\n",
    "            #2 - The bass,\n",
    "            #3 - The rest of the accompaniment,\n",
    "            #4 - The vocals.\n",
    "\n",
    "            # Save as WAV file\n",
    "            stempeg.write_audio(output_file, audio, rate)\n",
    "\n",
    "            print(f\"✅ Converted {file} to {output_file}\")\n",
    "\n",
    "print(\"🚀 All files have been successfully converted!\")\n"
   ]
  },
  {
   "cell_type": "code",
   "execution_count": null,
   "metadata": {},
   "outputs": [],
   "source": []
  },
  {
   "cell_type": "markdown",
   "metadata": {},
   "source": [
    "### Convert WAV files to Spectrograms"
   ]
  },
  {
   "cell_type": "code",
   "execution_count": 132,
   "metadata": {},
   "outputs": [],
   "source": [
    "# !pip install librosa"
   ]
  },
  {
   "cell_type": "markdown",
   "metadata": {},
   "source": [
    "#### 1. Mel spectogram"
   ]
  },
  {
   "cell_type": "markdown",
   "metadata": {},
   "source": [
    "Mel spectrogram focuses on human perception (log-spaced frequency bins)."
   ]
  },
  {
   "cell_type": "code",
   "execution_count": 154,
   "metadata": {},
   "outputs": [
    {
     "name": "stdout",
     "output_type": "stream",
     "text": [
      "✅ Spectrograms saved separately in 'train' and 'test' folders!\n"
     ]
    }
   ],
   "source": [
    "import os\n",
    "import librosa\n",
    "import librosa.display\n",
    "import numpy as np\n",
    "import matplotlib.pyplot as plt\n",
    "\n",
    "# Paths\n",
    "wav_base_path = r\"C:/Users/Ramiro Brie/Desktop/UPC_IA_GITHUB/TFM/compressed_database/musdb_wav\"\n",
    "spectrogram_base_path = r\"C:/Users/Ramiro Brie/Desktop/UPC_IA_GITHUB/TFM/compressed_database/spectrograms\"\n",
    "os.makedirs(spectrogram_base_path, exist_ok=True)\n",
    "\n",
    "# Function to generate and save spectrograms\n",
    "def save_spectrogram(wav_file, subset):\n",
    "    # Create separate folders for train/test spectrograms\n",
    "    subset_folder = os.path.join(spectrogram_base_path, subset)\n",
    "    os.makedirs(subset_folder, exist_ok=True)\n",
    "\n",
    "    # Load WAV file and generate spectrogram\n",
    "    y, sr = librosa.load(wav_file, sr=22050)\n",
    "    S = librosa.feature.melspectrogram(y=y, sr=sr)\n",
    "    S_db = librosa.power_to_db(S, ref=np.max)\n",
    "\n",
    "    # Extract filename without extension\n",
    "    base_name = os.path.splitext(os.path.basename(wav_file))[0]\n",
    "\n",
    "    # Plot and save spectrogram image\n",
    "    plt.figure(figsize=(10, 4))\n",
    "    librosa.display.specshow(S_db, sr=sr, x_axis='time', y_axis='mel')\n",
    "    plt.colorbar(format='%+2.0f dB')\n",
    "    plt.title(f\"Spectrogram: {base_name}\")\n",
    "    plt.savefig(os.path.join(subset_folder, f\"{base_name}.png\"))\n",
    "    plt.close()\n",
    "\n",
    "# Process WAV files in both 'train' and 'test' folders\n",
    "for subset in [\"train\", \"test\"]:\n",
    "    subset_folder = os.path.join(wav_base_path, subset)\n",
    "    \n",
    "    if os.path.exists(subset_folder):\n",
    "        for file in os.listdir(subset_folder):\n",
    "            if file.endswith(\".wav\"):  # Process only .wav files\n",
    "                save_spectrogram(os.path.join(subset_folder, file), subset)\n",
    "\n",
    "print(\"✅ Spectrograms saved separately in 'train' and 'test' folders!\")\n"
   ]
  },
  {
   "cell_type": "markdown",
   "metadata": {},
   "source": [
    "### 2. ALTERNATIVE SPECTOGRAMS USING STFT spectogram"
   ]
  },
  {
   "cell_type": "markdown",
   "metadata": {},
   "source": [
    "STFT spectrogram provides a linear frequency resolution, offering more direct insight into raw frequency bins."
   ]
  },
  {
   "cell_type": "code",
   "execution_count": 155,
   "metadata": {},
   "outputs": [
    {
     "ename": "MemoryError",
     "evalue": "Unable to allocate 64.7 MiB for an array with shape (8477838,) and data type float64",
     "output_type": "error",
     "traceback": [
      "\u001b[1;31m---------------------------------------------------------------------------\u001b[0m",
      "\u001b[1;31mMemoryError\u001b[0m                               Traceback (most recent call last)",
      "Cell \u001b[1;32mIn[155], line 55\u001b[0m\n\u001b[0;32m     53\u001b[0m         \u001b[38;5;28;01mfor\u001b[39;00m file \u001b[38;5;129;01min\u001b[39;00m os\u001b[38;5;241m.\u001b[39mlistdir(wav_folder):\n\u001b[0;32m     54\u001b[0m             \u001b[38;5;28;01mif\u001b[39;00m file\u001b[38;5;241m.\u001b[39mendswith(\u001b[38;5;124m\"\u001b[39m\u001b[38;5;124m.wav\u001b[39m\u001b[38;5;124m\"\u001b[39m):  \u001b[38;5;66;03m# Process only .wav files\u001b[39;00m\n\u001b[1;32m---> 55\u001b[0m                 \u001b[43msave_spectrograms\u001b[49m\u001b[43m(\u001b[49m\u001b[43mos\u001b[49m\u001b[38;5;241;43m.\u001b[39;49m\u001b[43mpath\u001b[49m\u001b[38;5;241;43m.\u001b[39;49m\u001b[43mjoin\u001b[49m\u001b[43m(\u001b[49m\u001b[43mwav_folder\u001b[49m\u001b[43m,\u001b[49m\u001b[43m \u001b[49m\u001b[43mfile\u001b[49m\u001b[43m)\u001b[49m\u001b[43m,\u001b[49m\u001b[43m \u001b[49m\u001b[43msubset_folder\u001b[49m\u001b[43m)\u001b[49m\n\u001b[0;32m     57\u001b[0m \u001b[38;5;28mprint\u001b[39m(\u001b[38;5;124m\"\u001b[39m\u001b[38;5;124m✅ Spectrograms saved in \u001b[39m\u001b[38;5;124m'\u001b[39m\u001b[38;5;124mtrain_alternative\u001b[39m\u001b[38;5;124m'\u001b[39m\u001b[38;5;124m and \u001b[39m\u001b[38;5;124m'\u001b[39m\u001b[38;5;124mtest_alternative\u001b[39m\u001b[38;5;124m'\u001b[39m\u001b[38;5;124m folders!\u001b[39m\u001b[38;5;124m\"\u001b[39m)\n",
      "Cell \u001b[1;32mIn[155], line 45\u001b[0m, in \u001b[0;36msave_spectrograms\u001b[1;34m(wav_file, subset_folder)\u001b[0m\n\u001b[0;32m     43\u001b[0m plt\u001b[38;5;241m.\u001b[39mcolorbar(\u001b[38;5;28mformat\u001b[39m\u001b[38;5;241m=\u001b[39m\u001b[38;5;124m'\u001b[39m\u001b[38;5;132;01m%+2.0f\u001b[39;00m\u001b[38;5;124m dB\u001b[39m\u001b[38;5;124m'\u001b[39m)\n\u001b[0;32m     44\u001b[0m plt\u001b[38;5;241m.\u001b[39mtitle(\u001b[38;5;124mf\u001b[39m\u001b[38;5;124m\"\u001b[39m\u001b[38;5;124mSTFT Spectrogram: \u001b[39m\u001b[38;5;132;01m{\u001b[39;00mbase_name\u001b[38;5;132;01m}\u001b[39;00m\u001b[38;5;124m\"\u001b[39m)\n\u001b[1;32m---> 45\u001b[0m \u001b[43mplt\u001b[49m\u001b[38;5;241;43m.\u001b[39;49m\u001b[43msavefig\u001b[49m\u001b[43m(\u001b[49m\u001b[43mos\u001b[49m\u001b[38;5;241;43m.\u001b[39;49m\u001b[43mpath\u001b[49m\u001b[38;5;241;43m.\u001b[39;49m\u001b[43mjoin\u001b[49m\u001b[43m(\u001b[49m\u001b[43msubset_folder\u001b[49m\u001b[43m,\u001b[49m\u001b[43m \u001b[49m\u001b[38;5;124;43mf\u001b[39;49m\u001b[38;5;124;43m\"\u001b[39;49m\u001b[38;5;132;43;01m{\u001b[39;49;00m\u001b[43mbase_name\u001b[49m\u001b[38;5;132;43;01m}\u001b[39;49;00m\u001b[38;5;124;43m_stft.png\u001b[39;49m\u001b[38;5;124;43m\"\u001b[39;49m\u001b[43m)\u001b[49m\u001b[43m)\u001b[49m\n\u001b[0;32m     46\u001b[0m plt\u001b[38;5;241m.\u001b[39mclose()\n",
      "File \u001b[1;32mc:\\Python37\\lib\\site-packages\\matplotlib\\pyplot.py:1228\u001b[0m, in \u001b[0;36msavefig\u001b[1;34m(*args, **kwargs)\u001b[0m\n\u001b[0;32m   1225\u001b[0m fig \u001b[38;5;241m=\u001b[39m gcf()\n\u001b[0;32m   1226\u001b[0m \u001b[38;5;66;03m# savefig default implementation has no return, so mypy is unhappy\u001b[39;00m\n\u001b[0;32m   1227\u001b[0m \u001b[38;5;66;03m# presumably this is here because subclasses can return?\u001b[39;00m\n\u001b[1;32m-> 1228\u001b[0m res \u001b[38;5;241m=\u001b[39m fig\u001b[38;5;241m.\u001b[39msavefig(\u001b[38;5;241m*\u001b[39margs, \u001b[38;5;241m*\u001b[39m\u001b[38;5;241m*\u001b[39mkwargs)  \u001b[38;5;66;03m# type: ignore[func-returns-value]\u001b[39;00m\n\u001b[0;32m   1229\u001b[0m fig\u001b[38;5;241m.\u001b[39mcanvas\u001b[38;5;241m.\u001b[39mdraw_idle()  \u001b[38;5;66;03m# Need this if 'transparent=True', to reset colors.\u001b[39;00m\n\u001b[0;32m   1230\u001b[0m \u001b[38;5;28;01mreturn\u001b[39;00m res\n",
      "File \u001b[1;32mc:\\Python37\\lib\\site-packages\\matplotlib\\figure.py:3395\u001b[0m, in \u001b[0;36mFigure.savefig\u001b[1;34m(self, fname, transparent, **kwargs)\u001b[0m\n\u001b[0;32m   3393\u001b[0m     \u001b[38;5;28;01mfor\u001b[39;00m ax \u001b[38;5;129;01min\u001b[39;00m \u001b[38;5;28mself\u001b[39m\u001b[38;5;241m.\u001b[39maxes:\n\u001b[0;32m   3394\u001b[0m         _recursively_make_axes_transparent(stack, ax)\n\u001b[1;32m-> 3395\u001b[0m \u001b[38;5;28mself\u001b[39m\u001b[38;5;241m.\u001b[39mcanvas\u001b[38;5;241m.\u001b[39mprint_figure(fname, \u001b[38;5;241m*\u001b[39m\u001b[38;5;241m*\u001b[39mkwargs)\n",
      "File \u001b[1;32mc:\\Python37\\lib\\site-packages\\matplotlib\\backend_bases.py:2204\u001b[0m, in \u001b[0;36mFigureCanvasBase.print_figure\u001b[1;34m(self, filename, dpi, facecolor, edgecolor, orientation, format, bbox_inches, pad_inches, bbox_extra_artists, backend, **kwargs)\u001b[0m\n\u001b[0;32m   2200\u001b[0m \u001b[38;5;28;01mtry\u001b[39;00m:\n\u001b[0;32m   2201\u001b[0m     \u001b[38;5;66;03m# _get_renderer may change the figure dpi (as vector formats\u001b[39;00m\n\u001b[0;32m   2202\u001b[0m     \u001b[38;5;66;03m# force the figure dpi to 72), so we need to set it again here.\u001b[39;00m\n\u001b[0;32m   2203\u001b[0m     \u001b[38;5;28;01mwith\u001b[39;00m cbook\u001b[38;5;241m.\u001b[39m_setattr_cm(\u001b[38;5;28mself\u001b[39m\u001b[38;5;241m.\u001b[39mfigure, dpi\u001b[38;5;241m=\u001b[39mdpi):\n\u001b[1;32m-> 2204\u001b[0m         result \u001b[38;5;241m=\u001b[39m print_method(\n\u001b[0;32m   2205\u001b[0m             filename,\n\u001b[0;32m   2206\u001b[0m             facecolor\u001b[38;5;241m=\u001b[39mfacecolor,\n\u001b[0;32m   2207\u001b[0m             edgecolor\u001b[38;5;241m=\u001b[39medgecolor,\n\u001b[0;32m   2208\u001b[0m             orientation\u001b[38;5;241m=\u001b[39morientation,\n\u001b[0;32m   2209\u001b[0m             bbox_inches_restore\u001b[38;5;241m=\u001b[39m_bbox_inches_restore,\n\u001b[0;32m   2210\u001b[0m             \u001b[38;5;241m*\u001b[39m\u001b[38;5;241m*\u001b[39mkwargs)\n\u001b[0;32m   2211\u001b[0m \u001b[38;5;28;01mfinally\u001b[39;00m:\n\u001b[0;32m   2212\u001b[0m     \u001b[38;5;28;01mif\u001b[39;00m bbox_inches \u001b[38;5;129;01mand\u001b[39;00m restore_bbox:\n",
      "File \u001b[1;32mc:\\Python37\\lib\\site-packages\\matplotlib\\backend_bases.py:2054\u001b[0m, in \u001b[0;36mFigureCanvasBase._switch_canvas_and_return_print_method.<locals>.<lambda>\u001b[1;34m(*args, **kwargs)\u001b[0m\n\u001b[0;32m   2050\u001b[0m     optional_kws \u001b[38;5;241m=\u001b[39m {  \u001b[38;5;66;03m# Passed by print_figure for other renderers.\u001b[39;00m\n\u001b[0;32m   2051\u001b[0m         \u001b[38;5;124m\"\u001b[39m\u001b[38;5;124mdpi\u001b[39m\u001b[38;5;124m\"\u001b[39m, \u001b[38;5;124m\"\u001b[39m\u001b[38;5;124mfacecolor\u001b[39m\u001b[38;5;124m\"\u001b[39m, \u001b[38;5;124m\"\u001b[39m\u001b[38;5;124medgecolor\u001b[39m\u001b[38;5;124m\"\u001b[39m, \u001b[38;5;124m\"\u001b[39m\u001b[38;5;124morientation\u001b[39m\u001b[38;5;124m\"\u001b[39m,\n\u001b[0;32m   2052\u001b[0m         \u001b[38;5;124m\"\u001b[39m\u001b[38;5;124mbbox_inches_restore\u001b[39m\u001b[38;5;124m\"\u001b[39m}\n\u001b[0;32m   2053\u001b[0m     skip \u001b[38;5;241m=\u001b[39m optional_kws \u001b[38;5;241m-\u001b[39m {\u001b[38;5;241m*\u001b[39minspect\u001b[38;5;241m.\u001b[39msignature(meth)\u001b[38;5;241m.\u001b[39mparameters}\n\u001b[1;32m-> 2054\u001b[0m     print_method \u001b[38;5;241m=\u001b[39m functools\u001b[38;5;241m.\u001b[39mwraps(meth)(\u001b[38;5;28;01mlambda\u001b[39;00m \u001b[38;5;241m*\u001b[39margs, \u001b[38;5;241m*\u001b[39m\u001b[38;5;241m*\u001b[39mkwargs: meth(\n\u001b[0;32m   2055\u001b[0m         \u001b[38;5;241m*\u001b[39margs, \u001b[38;5;241m*\u001b[39m\u001b[38;5;241m*\u001b[39m{k: v \u001b[38;5;28;01mfor\u001b[39;00m k, v \u001b[38;5;129;01min\u001b[39;00m kwargs\u001b[38;5;241m.\u001b[39mitems() \u001b[38;5;28;01mif\u001b[39;00m k \u001b[38;5;129;01mnot\u001b[39;00m \u001b[38;5;129;01min\u001b[39;00m skip}))\n\u001b[0;32m   2056\u001b[0m \u001b[38;5;28;01melse\u001b[39;00m:  \u001b[38;5;66;03m# Let third-parties do as they see fit.\u001b[39;00m\n\u001b[0;32m   2057\u001b[0m     print_method \u001b[38;5;241m=\u001b[39m meth\n",
      "File \u001b[1;32mc:\\Python37\\lib\\site-packages\\matplotlib\\backends\\backend_agg.py:496\u001b[0m, in \u001b[0;36mFigureCanvasAgg.print_png\u001b[1;34m(self, filename_or_obj, metadata, pil_kwargs)\u001b[0m\n\u001b[0;32m    449\u001b[0m \u001b[38;5;28;01mdef\u001b[39;00m\u001b[38;5;250m \u001b[39m\u001b[38;5;21mprint_png\u001b[39m(\u001b[38;5;28mself\u001b[39m, filename_or_obj, \u001b[38;5;241m*\u001b[39m, metadata\u001b[38;5;241m=\u001b[39m\u001b[38;5;28;01mNone\u001b[39;00m, pil_kwargs\u001b[38;5;241m=\u001b[39m\u001b[38;5;28;01mNone\u001b[39;00m):\n\u001b[0;32m    450\u001b[0m \u001b[38;5;250m    \u001b[39m\u001b[38;5;124;03m\"\"\"\u001b[39;00m\n\u001b[0;32m    451\u001b[0m \u001b[38;5;124;03m    Write the figure to a PNG file.\u001b[39;00m\n\u001b[0;32m    452\u001b[0m \n\u001b[1;32m   (...)\u001b[0m\n\u001b[0;32m    494\u001b[0m \u001b[38;5;124;03m        *metadata*, including the default 'Software' key.\u001b[39;00m\n\u001b[0;32m    495\u001b[0m \u001b[38;5;124;03m    \"\"\"\u001b[39;00m\n\u001b[1;32m--> 496\u001b[0m     \u001b[38;5;28;43mself\u001b[39;49m\u001b[38;5;241;43m.\u001b[39;49m\u001b[43m_print_pil\u001b[49m\u001b[43m(\u001b[49m\u001b[43mfilename_or_obj\u001b[49m\u001b[43m,\u001b[49m\u001b[43m \u001b[49m\u001b[38;5;124;43m\"\u001b[39;49m\u001b[38;5;124;43mpng\u001b[39;49m\u001b[38;5;124;43m\"\u001b[39;49m\u001b[43m,\u001b[49m\u001b[43m \u001b[49m\u001b[43mpil_kwargs\u001b[49m\u001b[43m,\u001b[49m\u001b[43m \u001b[49m\u001b[43mmetadata\u001b[49m\u001b[43m)\u001b[49m\n",
      "File \u001b[1;32mc:\\Python37\\lib\\site-packages\\matplotlib\\backends\\backend_agg.py:444\u001b[0m, in \u001b[0;36mFigureCanvasAgg._print_pil\u001b[1;34m(self, filename_or_obj, fmt, pil_kwargs, metadata)\u001b[0m\n\u001b[0;32m    439\u001b[0m \u001b[38;5;28;01mdef\u001b[39;00m\u001b[38;5;250m \u001b[39m\u001b[38;5;21m_print_pil\u001b[39m(\u001b[38;5;28mself\u001b[39m, filename_or_obj, fmt, pil_kwargs, metadata\u001b[38;5;241m=\u001b[39m\u001b[38;5;28;01mNone\u001b[39;00m):\n\u001b[0;32m    440\u001b[0m \u001b[38;5;250m    \u001b[39m\u001b[38;5;124;03m\"\"\"\u001b[39;00m\n\u001b[0;32m    441\u001b[0m \u001b[38;5;124;03m    Draw the canvas, then save it using `.image.imsave` (to which\u001b[39;00m\n\u001b[0;32m    442\u001b[0m \u001b[38;5;124;03m    *pil_kwargs* and *metadata* are forwarded).\u001b[39;00m\n\u001b[0;32m    443\u001b[0m \u001b[38;5;124;03m    \"\"\"\u001b[39;00m\n\u001b[1;32m--> 444\u001b[0m     \u001b[43mFigureCanvasAgg\u001b[49m\u001b[38;5;241;43m.\u001b[39;49m\u001b[43mdraw\u001b[49m\u001b[43m(\u001b[49m\u001b[38;5;28;43mself\u001b[39;49m\u001b[43m)\u001b[49m\n\u001b[0;32m    445\u001b[0m     mpl\u001b[38;5;241m.\u001b[39mimage\u001b[38;5;241m.\u001b[39mimsave(\n\u001b[0;32m    446\u001b[0m         filename_or_obj, \u001b[38;5;28mself\u001b[39m\u001b[38;5;241m.\u001b[39mbuffer_rgba(), \u001b[38;5;28mformat\u001b[39m\u001b[38;5;241m=\u001b[39mfmt, origin\u001b[38;5;241m=\u001b[39m\u001b[38;5;124m\"\u001b[39m\u001b[38;5;124mupper\u001b[39m\u001b[38;5;124m\"\u001b[39m,\n\u001b[0;32m    447\u001b[0m         dpi\u001b[38;5;241m=\u001b[39m\u001b[38;5;28mself\u001b[39m\u001b[38;5;241m.\u001b[39mfigure\u001b[38;5;241m.\u001b[39mdpi, metadata\u001b[38;5;241m=\u001b[39mmetadata, pil_kwargs\u001b[38;5;241m=\u001b[39mpil_kwargs)\n",
      "File \u001b[1;32mc:\\Python37\\lib\\site-packages\\matplotlib\\backends\\backend_agg.py:387\u001b[0m, in \u001b[0;36mFigureCanvasAgg.draw\u001b[1;34m(self)\u001b[0m\n\u001b[0;32m    384\u001b[0m \u001b[38;5;66;03m# Acquire a lock on the shared font cache.\u001b[39;00m\n\u001b[0;32m    385\u001b[0m \u001b[38;5;28;01mwith\u001b[39;00m (\u001b[38;5;28mself\u001b[39m\u001b[38;5;241m.\u001b[39mtoolbar\u001b[38;5;241m.\u001b[39m_wait_cursor_for_draw_cm() \u001b[38;5;28;01mif\u001b[39;00m \u001b[38;5;28mself\u001b[39m\u001b[38;5;241m.\u001b[39mtoolbar\n\u001b[0;32m    386\u001b[0m       \u001b[38;5;28;01melse\u001b[39;00m nullcontext()):\n\u001b[1;32m--> 387\u001b[0m     \u001b[38;5;28;43mself\u001b[39;49m\u001b[38;5;241;43m.\u001b[39;49m\u001b[43mfigure\u001b[49m\u001b[38;5;241;43m.\u001b[39;49m\u001b[43mdraw\u001b[49m\u001b[43m(\u001b[49m\u001b[38;5;28;43mself\u001b[39;49m\u001b[38;5;241;43m.\u001b[39;49m\u001b[43mrenderer\u001b[49m\u001b[43m)\u001b[49m\n\u001b[0;32m    388\u001b[0m     \u001b[38;5;66;03m# A GUI class may be need to update a window using this draw, so\u001b[39;00m\n\u001b[0;32m    389\u001b[0m     \u001b[38;5;66;03m# don't forget to call the superclass.\u001b[39;00m\n\u001b[0;32m    390\u001b[0m     \u001b[38;5;28msuper\u001b[39m()\u001b[38;5;241m.\u001b[39mdraw()\n",
      "File \u001b[1;32mc:\\Python37\\lib\\site-packages\\matplotlib\\artist.py:95\u001b[0m, in \u001b[0;36m_finalize_rasterization.<locals>.draw_wrapper\u001b[1;34m(artist, renderer, *args, **kwargs)\u001b[0m\n\u001b[0;32m     93\u001b[0m \u001b[38;5;129m@wraps\u001b[39m(draw)\n\u001b[0;32m     94\u001b[0m \u001b[38;5;28;01mdef\u001b[39;00m\u001b[38;5;250m \u001b[39m\u001b[38;5;21mdraw_wrapper\u001b[39m(artist, renderer, \u001b[38;5;241m*\u001b[39margs, \u001b[38;5;241m*\u001b[39m\u001b[38;5;241m*\u001b[39mkwargs):\n\u001b[1;32m---> 95\u001b[0m     result \u001b[38;5;241m=\u001b[39m draw(artist, renderer, \u001b[38;5;241m*\u001b[39margs, \u001b[38;5;241m*\u001b[39m\u001b[38;5;241m*\u001b[39mkwargs)\n\u001b[0;32m     96\u001b[0m     \u001b[38;5;28;01mif\u001b[39;00m renderer\u001b[38;5;241m.\u001b[39m_rasterizing:\n\u001b[0;32m     97\u001b[0m         renderer\u001b[38;5;241m.\u001b[39mstop_rasterizing()\n",
      "File \u001b[1;32mc:\\Python37\\lib\\site-packages\\matplotlib\\artist.py:72\u001b[0m, in \u001b[0;36mallow_rasterization.<locals>.draw_wrapper\u001b[1;34m(artist, renderer)\u001b[0m\n\u001b[0;32m     69\u001b[0m     \u001b[38;5;28;01mif\u001b[39;00m artist\u001b[38;5;241m.\u001b[39mget_agg_filter() \u001b[38;5;129;01mis\u001b[39;00m \u001b[38;5;129;01mnot\u001b[39;00m \u001b[38;5;28;01mNone\u001b[39;00m:\n\u001b[0;32m     70\u001b[0m         renderer\u001b[38;5;241m.\u001b[39mstart_filter()\n\u001b[1;32m---> 72\u001b[0m     \u001b[38;5;28;01mreturn\u001b[39;00m \u001b[43mdraw\u001b[49m\u001b[43m(\u001b[49m\u001b[43martist\u001b[49m\u001b[43m,\u001b[49m\u001b[43m \u001b[49m\u001b[43mrenderer\u001b[49m\u001b[43m)\u001b[49m\n\u001b[0;32m     73\u001b[0m \u001b[38;5;28;01mfinally\u001b[39;00m:\n\u001b[0;32m     74\u001b[0m     \u001b[38;5;28;01mif\u001b[39;00m artist\u001b[38;5;241m.\u001b[39mget_agg_filter() \u001b[38;5;129;01mis\u001b[39;00m \u001b[38;5;129;01mnot\u001b[39;00m \u001b[38;5;28;01mNone\u001b[39;00m:\n",
      "File \u001b[1;32mc:\\Python37\\lib\\site-packages\\matplotlib\\figure.py:3162\u001b[0m, in \u001b[0;36mFigure.draw\u001b[1;34m(self, renderer)\u001b[0m\n\u001b[0;32m   3159\u001b[0m             \u001b[38;5;66;03m# ValueError can occur when resizing a window.\u001b[39;00m\n\u001b[0;32m   3161\u001b[0m     \u001b[38;5;28mself\u001b[39m\u001b[38;5;241m.\u001b[39mpatch\u001b[38;5;241m.\u001b[39mdraw(renderer)\n\u001b[1;32m-> 3162\u001b[0m     \u001b[43mmimage\u001b[49m\u001b[38;5;241;43m.\u001b[39;49m\u001b[43m_draw_list_compositing_images\u001b[49m\u001b[43m(\u001b[49m\n\u001b[0;32m   3163\u001b[0m \u001b[43m        \u001b[49m\u001b[43mrenderer\u001b[49m\u001b[43m,\u001b[49m\u001b[43m \u001b[49m\u001b[38;5;28;43mself\u001b[39;49m\u001b[43m,\u001b[49m\u001b[43m \u001b[49m\u001b[43martists\u001b[49m\u001b[43m,\u001b[49m\u001b[43m \u001b[49m\u001b[38;5;28;43mself\u001b[39;49m\u001b[38;5;241;43m.\u001b[39;49m\u001b[43msuppressComposite\u001b[49m\u001b[43m)\u001b[49m\n\u001b[0;32m   3165\u001b[0m     renderer\u001b[38;5;241m.\u001b[39mclose_group(\u001b[38;5;124m'\u001b[39m\u001b[38;5;124mfigure\u001b[39m\u001b[38;5;124m'\u001b[39m)\n\u001b[0;32m   3166\u001b[0m \u001b[38;5;28;01mfinally\u001b[39;00m:\n",
      "File \u001b[1;32mc:\\Python37\\lib\\site-packages\\matplotlib\\image.py:132\u001b[0m, in \u001b[0;36m_draw_list_compositing_images\u001b[1;34m(renderer, parent, artists, suppress_composite)\u001b[0m\n\u001b[0;32m    130\u001b[0m \u001b[38;5;28;01mif\u001b[39;00m not_composite \u001b[38;5;129;01mor\u001b[39;00m \u001b[38;5;129;01mnot\u001b[39;00m has_images:\n\u001b[0;32m    131\u001b[0m     \u001b[38;5;28;01mfor\u001b[39;00m a \u001b[38;5;129;01min\u001b[39;00m artists:\n\u001b[1;32m--> 132\u001b[0m         \u001b[43ma\u001b[49m\u001b[38;5;241;43m.\u001b[39;49m\u001b[43mdraw\u001b[49m\u001b[43m(\u001b[49m\u001b[43mrenderer\u001b[49m\u001b[43m)\u001b[49m\n\u001b[0;32m    133\u001b[0m \u001b[38;5;28;01melse\u001b[39;00m:\n\u001b[0;32m    134\u001b[0m     \u001b[38;5;66;03m# Composite any adjacent images together\u001b[39;00m\n\u001b[0;32m    135\u001b[0m     image_group \u001b[38;5;241m=\u001b[39m []\n",
      "File \u001b[1;32mc:\\Python37\\lib\\site-packages\\matplotlib\\artist.py:72\u001b[0m, in \u001b[0;36mallow_rasterization.<locals>.draw_wrapper\u001b[1;34m(artist, renderer)\u001b[0m\n\u001b[0;32m     69\u001b[0m     \u001b[38;5;28;01mif\u001b[39;00m artist\u001b[38;5;241m.\u001b[39mget_agg_filter() \u001b[38;5;129;01mis\u001b[39;00m \u001b[38;5;129;01mnot\u001b[39;00m \u001b[38;5;28;01mNone\u001b[39;00m:\n\u001b[0;32m     70\u001b[0m         renderer\u001b[38;5;241m.\u001b[39mstart_filter()\n\u001b[1;32m---> 72\u001b[0m     \u001b[38;5;28;01mreturn\u001b[39;00m \u001b[43mdraw\u001b[49m\u001b[43m(\u001b[49m\u001b[43martist\u001b[49m\u001b[43m,\u001b[49m\u001b[43m \u001b[49m\u001b[43mrenderer\u001b[49m\u001b[43m)\u001b[49m\n\u001b[0;32m     73\u001b[0m \u001b[38;5;28;01mfinally\u001b[39;00m:\n\u001b[0;32m     74\u001b[0m     \u001b[38;5;28;01mif\u001b[39;00m artist\u001b[38;5;241m.\u001b[39mget_agg_filter() \u001b[38;5;129;01mis\u001b[39;00m \u001b[38;5;129;01mnot\u001b[39;00m \u001b[38;5;28;01mNone\u001b[39;00m:\n",
      "File \u001b[1;32mc:\\Python37\\lib\\site-packages\\matplotlib\\axes\\_base.py:3137\u001b[0m, in \u001b[0;36m_AxesBase.draw\u001b[1;34m(self, renderer)\u001b[0m\n\u001b[0;32m   3134\u001b[0m \u001b[38;5;28;01mif\u001b[39;00m artists_rasterized:\n\u001b[0;32m   3135\u001b[0m     _draw_rasterized(\u001b[38;5;28mself\u001b[39m\u001b[38;5;241m.\u001b[39mfigure, artists_rasterized, renderer)\n\u001b[1;32m-> 3137\u001b[0m \u001b[43mmimage\u001b[49m\u001b[38;5;241;43m.\u001b[39;49m\u001b[43m_draw_list_compositing_images\u001b[49m\u001b[43m(\u001b[49m\n\u001b[0;32m   3138\u001b[0m \u001b[43m    \u001b[49m\u001b[43mrenderer\u001b[49m\u001b[43m,\u001b[49m\u001b[43m \u001b[49m\u001b[38;5;28;43mself\u001b[39;49m\u001b[43m,\u001b[49m\u001b[43m \u001b[49m\u001b[43martists\u001b[49m\u001b[43m,\u001b[49m\u001b[43m \u001b[49m\u001b[38;5;28;43mself\u001b[39;49m\u001b[38;5;241;43m.\u001b[39;49m\u001b[43mfigure\u001b[49m\u001b[38;5;241;43m.\u001b[39;49m\u001b[43msuppressComposite\u001b[49m\u001b[43m)\u001b[49m\n\u001b[0;32m   3140\u001b[0m renderer\u001b[38;5;241m.\u001b[39mclose_group(\u001b[38;5;124m'\u001b[39m\u001b[38;5;124maxes\u001b[39m\u001b[38;5;124m'\u001b[39m)\n\u001b[0;32m   3141\u001b[0m \u001b[38;5;28mself\u001b[39m\u001b[38;5;241m.\u001b[39mstale \u001b[38;5;241m=\u001b[39m \u001b[38;5;28;01mFalse\u001b[39;00m\n",
      "File \u001b[1;32mc:\\Python37\\lib\\site-packages\\matplotlib\\image.py:132\u001b[0m, in \u001b[0;36m_draw_list_compositing_images\u001b[1;34m(renderer, parent, artists, suppress_composite)\u001b[0m\n\u001b[0;32m    130\u001b[0m \u001b[38;5;28;01mif\u001b[39;00m not_composite \u001b[38;5;129;01mor\u001b[39;00m \u001b[38;5;129;01mnot\u001b[39;00m has_images:\n\u001b[0;32m    131\u001b[0m     \u001b[38;5;28;01mfor\u001b[39;00m a \u001b[38;5;129;01min\u001b[39;00m artists:\n\u001b[1;32m--> 132\u001b[0m         \u001b[43ma\u001b[49m\u001b[38;5;241;43m.\u001b[39;49m\u001b[43mdraw\u001b[49m\u001b[43m(\u001b[49m\u001b[43mrenderer\u001b[49m\u001b[43m)\u001b[49m\n\u001b[0;32m    133\u001b[0m \u001b[38;5;28;01melse\u001b[39;00m:\n\u001b[0;32m    134\u001b[0m     \u001b[38;5;66;03m# Composite any adjacent images together\u001b[39;00m\n\u001b[0;32m    135\u001b[0m     image_group \u001b[38;5;241m=\u001b[39m []\n",
      "File \u001b[1;32mc:\\Python37\\lib\\site-packages\\matplotlib\\artist.py:72\u001b[0m, in \u001b[0;36mallow_rasterization.<locals>.draw_wrapper\u001b[1;34m(artist, renderer)\u001b[0m\n\u001b[0;32m     69\u001b[0m     \u001b[38;5;28;01mif\u001b[39;00m artist\u001b[38;5;241m.\u001b[39mget_agg_filter() \u001b[38;5;129;01mis\u001b[39;00m \u001b[38;5;129;01mnot\u001b[39;00m \u001b[38;5;28;01mNone\u001b[39;00m:\n\u001b[0;32m     70\u001b[0m         renderer\u001b[38;5;241m.\u001b[39mstart_filter()\n\u001b[1;32m---> 72\u001b[0m     \u001b[38;5;28;01mreturn\u001b[39;00m \u001b[43mdraw\u001b[49m\u001b[43m(\u001b[49m\u001b[43martist\u001b[49m\u001b[43m,\u001b[49m\u001b[43m \u001b[49m\u001b[43mrenderer\u001b[49m\u001b[43m)\u001b[49m\n\u001b[0;32m     73\u001b[0m \u001b[38;5;28;01mfinally\u001b[39;00m:\n\u001b[0;32m     74\u001b[0m     \u001b[38;5;28;01mif\u001b[39;00m artist\u001b[38;5;241m.\u001b[39mget_agg_filter() \u001b[38;5;129;01mis\u001b[39;00m \u001b[38;5;129;01mnot\u001b[39;00m \u001b[38;5;28;01mNone\u001b[39;00m:\n",
      "File \u001b[1;32mc:\\Python37\\lib\\site-packages\\matplotlib\\collections.py:2183\u001b[0m, in \u001b[0;36mQuadMesh.draw\u001b[1;34m(self, renderer)\u001b[0m\n\u001b[0;32m   2181\u001b[0m \u001b[38;5;28;01mif\u001b[39;00m \u001b[38;5;129;01mnot\u001b[39;00m transform\u001b[38;5;241m.\u001b[39mis_affine:\n\u001b[0;32m   2182\u001b[0m     coordinates \u001b[38;5;241m=\u001b[39m \u001b[38;5;28mself\u001b[39m\u001b[38;5;241m.\u001b[39m_coordinates\u001b[38;5;241m.\u001b[39mreshape((\u001b[38;5;241m-\u001b[39m\u001b[38;5;241m1\u001b[39m, \u001b[38;5;241m2\u001b[39m))\n\u001b[1;32m-> 2183\u001b[0m     coordinates \u001b[38;5;241m=\u001b[39m \u001b[43mtransform\u001b[49m\u001b[38;5;241;43m.\u001b[39;49m\u001b[43mtransform\u001b[49m\u001b[43m(\u001b[49m\u001b[43mcoordinates\u001b[49m\u001b[43m)\u001b[49m\n\u001b[0;32m   2184\u001b[0m     coordinates \u001b[38;5;241m=\u001b[39m coordinates\u001b[38;5;241m.\u001b[39mreshape(\u001b[38;5;28mself\u001b[39m\u001b[38;5;241m.\u001b[39m_coordinates\u001b[38;5;241m.\u001b[39mshape)\n\u001b[0;32m   2185\u001b[0m     transform \u001b[38;5;241m=\u001b[39m transforms\u001b[38;5;241m.\u001b[39mIdentityTransform()\n",
      "File \u001b[1;32mc:\\Python37\\lib\\site-packages\\matplotlib\\transforms.py:1505\u001b[0m, in \u001b[0;36mTransform.transform\u001b[1;34m(self, values)\u001b[0m\n\u001b[0;32m   1502\u001b[0m values \u001b[38;5;241m=\u001b[39m values\u001b[38;5;241m.\u001b[39mreshape((\u001b[38;5;241m-\u001b[39m\u001b[38;5;241m1\u001b[39m, \u001b[38;5;28mself\u001b[39m\u001b[38;5;241m.\u001b[39minput_dims))\n\u001b[0;32m   1504\u001b[0m \u001b[38;5;66;03m# Transform the values\u001b[39;00m\n\u001b[1;32m-> 1505\u001b[0m res \u001b[38;5;241m=\u001b[39m \u001b[38;5;28mself\u001b[39m\u001b[38;5;241m.\u001b[39mtransform_affine(\u001b[38;5;28;43mself\u001b[39;49m\u001b[38;5;241;43m.\u001b[39;49m\u001b[43mtransform_non_affine\u001b[49m\u001b[43m(\u001b[49m\u001b[43mvalues\u001b[49m\u001b[43m)\u001b[49m)\n\u001b[0;32m   1507\u001b[0m \u001b[38;5;66;03m# Convert the result back to the shape of the input values.\u001b[39;00m\n\u001b[0;32m   1508\u001b[0m \u001b[38;5;28;01mif\u001b[39;00m ndim \u001b[38;5;241m==\u001b[39m \u001b[38;5;241m0\u001b[39m:\n",
      "File \u001b[1;32mc:\\Python37\\lib\\site-packages\\matplotlib\\_api\\deprecation.py:300\u001b[0m, in \u001b[0;36mrename_parameter.<locals>.wrapper\u001b[1;34m(*args, **kwargs)\u001b[0m\n\u001b[0;32m    295\u001b[0m     warn_deprecated(\n\u001b[0;32m    296\u001b[0m         since, message\u001b[38;5;241m=\u001b[39m\u001b[38;5;124mf\u001b[39m\u001b[38;5;124m\"\u001b[39m\u001b[38;5;124mThe \u001b[39m\u001b[38;5;132;01m{\u001b[39;00mold\u001b[38;5;132;01m!r}\u001b[39;00m\u001b[38;5;124m parameter of \u001b[39m\u001b[38;5;132;01m{\u001b[39;00mfunc\u001b[38;5;241m.\u001b[39m\u001b[38;5;18m__name__\u001b[39m\u001b[38;5;132;01m}\u001b[39;00m\u001b[38;5;124m() \u001b[39m\u001b[38;5;124m\"\u001b[39m\n\u001b[0;32m    297\u001b[0m         \u001b[38;5;124mf\u001b[39m\u001b[38;5;124m\"\u001b[39m\u001b[38;5;124mhas been renamed \u001b[39m\u001b[38;5;132;01m{\u001b[39;00mnew\u001b[38;5;132;01m!r}\u001b[39;00m\u001b[38;5;124m since Matplotlib \u001b[39m\u001b[38;5;132;01m{\u001b[39;00msince\u001b[38;5;132;01m}\u001b[39;00m\u001b[38;5;124m; support \u001b[39m\u001b[38;5;124m\"\u001b[39m\n\u001b[0;32m    298\u001b[0m         \u001b[38;5;124mf\u001b[39m\u001b[38;5;124m\"\u001b[39m\u001b[38;5;124mfor the old name will be dropped %(removal)s.\u001b[39m\u001b[38;5;124m\"\u001b[39m)\n\u001b[0;32m    299\u001b[0m     kwargs[new] \u001b[38;5;241m=\u001b[39m kwargs\u001b[38;5;241m.\u001b[39mpop(old)\n\u001b[1;32m--> 300\u001b[0m \u001b[38;5;28;01mreturn\u001b[39;00m func(\u001b[38;5;241m*\u001b[39margs, \u001b[38;5;241m*\u001b[39m\u001b[38;5;241m*\u001b[39mkwargs)\n",
      "File \u001b[1;32mc:\\Python37\\lib\\site-packages\\matplotlib\\transforms.py:2436\u001b[0m, in \u001b[0;36mCompositeGenericTransform.transform_non_affine\u001b[1;34m(self, values)\u001b[0m\n\u001b[0;32m   2434\u001b[0m     \u001b[38;5;28;01mreturn\u001b[39;00m values\n\u001b[0;32m   2435\u001b[0m \u001b[38;5;28;01melif\u001b[39;00m \u001b[38;5;129;01mnot\u001b[39;00m \u001b[38;5;28mself\u001b[39m\u001b[38;5;241m.\u001b[39m_a\u001b[38;5;241m.\u001b[39mis_affine \u001b[38;5;129;01mand\u001b[39;00m \u001b[38;5;28mself\u001b[39m\u001b[38;5;241m.\u001b[39m_b\u001b[38;5;241m.\u001b[39mis_affine:\n\u001b[1;32m-> 2436\u001b[0m     \u001b[38;5;28;01mreturn\u001b[39;00m \u001b[38;5;28;43mself\u001b[39;49m\u001b[38;5;241;43m.\u001b[39;49m\u001b[43m_a\u001b[49m\u001b[38;5;241;43m.\u001b[39;49m\u001b[43mtransform_non_affine\u001b[49m\u001b[43m(\u001b[49m\u001b[43mvalues\u001b[49m\u001b[43m)\u001b[49m\n\u001b[0;32m   2437\u001b[0m \u001b[38;5;28;01melse\u001b[39;00m:\n\u001b[0;32m   2438\u001b[0m     \u001b[38;5;28;01mreturn\u001b[39;00m \u001b[38;5;28mself\u001b[39m\u001b[38;5;241m.\u001b[39m_b\u001b[38;5;241m.\u001b[39mtransform_non_affine(\u001b[38;5;28mself\u001b[39m\u001b[38;5;241m.\u001b[39m_a\u001b[38;5;241m.\u001b[39mtransform(values))\n",
      "File \u001b[1;32mc:\\Python37\\lib\\site-packages\\matplotlib\\_api\\deprecation.py:300\u001b[0m, in \u001b[0;36mrename_parameter.<locals>.wrapper\u001b[1;34m(*args, **kwargs)\u001b[0m\n\u001b[0;32m    295\u001b[0m     warn_deprecated(\n\u001b[0;32m    296\u001b[0m         since, message\u001b[38;5;241m=\u001b[39m\u001b[38;5;124mf\u001b[39m\u001b[38;5;124m\"\u001b[39m\u001b[38;5;124mThe \u001b[39m\u001b[38;5;132;01m{\u001b[39;00mold\u001b[38;5;132;01m!r}\u001b[39;00m\u001b[38;5;124m parameter of \u001b[39m\u001b[38;5;132;01m{\u001b[39;00mfunc\u001b[38;5;241m.\u001b[39m\u001b[38;5;18m__name__\u001b[39m\u001b[38;5;132;01m}\u001b[39;00m\u001b[38;5;124m() \u001b[39m\u001b[38;5;124m\"\u001b[39m\n\u001b[0;32m    297\u001b[0m         \u001b[38;5;124mf\u001b[39m\u001b[38;5;124m\"\u001b[39m\u001b[38;5;124mhas been renamed \u001b[39m\u001b[38;5;132;01m{\u001b[39;00mnew\u001b[38;5;132;01m!r}\u001b[39;00m\u001b[38;5;124m since Matplotlib \u001b[39m\u001b[38;5;132;01m{\u001b[39;00msince\u001b[38;5;132;01m}\u001b[39;00m\u001b[38;5;124m; support \u001b[39m\u001b[38;5;124m\"\u001b[39m\n\u001b[0;32m    298\u001b[0m         \u001b[38;5;124mf\u001b[39m\u001b[38;5;124m\"\u001b[39m\u001b[38;5;124mfor the old name will be dropped %(removal)s.\u001b[39m\u001b[38;5;124m\"\u001b[39m)\n\u001b[0;32m    299\u001b[0m     kwargs[new] \u001b[38;5;241m=\u001b[39m kwargs\u001b[38;5;241m.\u001b[39mpop(old)\n\u001b[1;32m--> 300\u001b[0m \u001b[38;5;28;01mreturn\u001b[39;00m func(\u001b[38;5;241m*\u001b[39margs, \u001b[38;5;241m*\u001b[39m\u001b[38;5;241m*\u001b[39mkwargs)\n",
      "File \u001b[1;32mc:\\Python37\\lib\\site-packages\\matplotlib\\transforms.py:2252\u001b[0m, in \u001b[0;36mBlendedGenericTransform.transform_non_affine\u001b[1;34m(self, values)\u001b[0m\n\u001b[0;32m   2250\u001b[0m     y_points \u001b[38;5;241m=\u001b[39m y\u001b[38;5;241m.\u001b[39mtransform_non_affine(values)[:, \u001b[38;5;241m1\u001b[39m:]\n\u001b[0;32m   2251\u001b[0m \u001b[38;5;28;01melse\u001b[39;00m:\n\u001b[1;32m-> 2252\u001b[0m     y_points \u001b[38;5;241m=\u001b[39m \u001b[43my\u001b[49m\u001b[38;5;241;43m.\u001b[39;49m\u001b[43mtransform_non_affine\u001b[49m\u001b[43m(\u001b[49m\u001b[43mvalues\u001b[49m\u001b[43m[\u001b[49m\u001b[43m:\u001b[49m\u001b[43m,\u001b[49m\u001b[43m \u001b[49m\u001b[38;5;241;43m1\u001b[39;49m\u001b[43m]\u001b[49m\u001b[43m)\u001b[49m\n\u001b[0;32m   2253\u001b[0m     y_points \u001b[38;5;241m=\u001b[39m y_points\u001b[38;5;241m.\u001b[39mreshape((\u001b[38;5;28mlen\u001b[39m(y_points), \u001b[38;5;241m1\u001b[39m))\n\u001b[0;32m   2255\u001b[0m \u001b[38;5;28;01mif\u001b[39;00m (\u001b[38;5;28misinstance\u001b[39m(x_points, np\u001b[38;5;241m.\u001b[39mma\u001b[38;5;241m.\u001b[39mMaskedArray) \u001b[38;5;129;01mor\u001b[39;00m\n\u001b[0;32m   2256\u001b[0m         \u001b[38;5;28misinstance\u001b[39m(y_points, np\u001b[38;5;241m.\u001b[39mma\u001b[38;5;241m.\u001b[39mMaskedArray)):\n",
      "File \u001b[1;32mc:\\Python37\\lib\\site-packages\\matplotlib\\_api\\deprecation.py:300\u001b[0m, in \u001b[0;36mrename_parameter.<locals>.wrapper\u001b[1;34m(*args, **kwargs)\u001b[0m\n\u001b[0;32m    295\u001b[0m     warn_deprecated(\n\u001b[0;32m    296\u001b[0m         since, message\u001b[38;5;241m=\u001b[39m\u001b[38;5;124mf\u001b[39m\u001b[38;5;124m\"\u001b[39m\u001b[38;5;124mThe \u001b[39m\u001b[38;5;132;01m{\u001b[39;00mold\u001b[38;5;132;01m!r}\u001b[39;00m\u001b[38;5;124m parameter of \u001b[39m\u001b[38;5;132;01m{\u001b[39;00mfunc\u001b[38;5;241m.\u001b[39m\u001b[38;5;18m__name__\u001b[39m\u001b[38;5;132;01m}\u001b[39;00m\u001b[38;5;124m() \u001b[39m\u001b[38;5;124m\"\u001b[39m\n\u001b[0;32m    297\u001b[0m         \u001b[38;5;124mf\u001b[39m\u001b[38;5;124m\"\u001b[39m\u001b[38;5;124mhas been renamed \u001b[39m\u001b[38;5;132;01m{\u001b[39;00mnew\u001b[38;5;132;01m!r}\u001b[39;00m\u001b[38;5;124m since Matplotlib \u001b[39m\u001b[38;5;132;01m{\u001b[39;00msince\u001b[38;5;132;01m}\u001b[39;00m\u001b[38;5;124m; support \u001b[39m\u001b[38;5;124m\"\u001b[39m\n\u001b[0;32m    298\u001b[0m         \u001b[38;5;124mf\u001b[39m\u001b[38;5;124m\"\u001b[39m\u001b[38;5;124mfor the old name will be dropped %(removal)s.\u001b[39m\u001b[38;5;124m\"\u001b[39m)\n\u001b[0;32m    299\u001b[0m     kwargs[new] \u001b[38;5;241m=\u001b[39m kwargs\u001b[38;5;241m.\u001b[39mpop(old)\n\u001b[1;32m--> 300\u001b[0m \u001b[38;5;28;01mreturn\u001b[39;00m func(\u001b[38;5;241m*\u001b[39margs, \u001b[38;5;241m*\u001b[39m\u001b[38;5;241m*\u001b[39mkwargs)\n",
      "File \u001b[1;32mc:\\Python37\\lib\\site-packages\\matplotlib\\scale.py:371\u001b[0m, in \u001b[0;36mSymmetricalLogTransform.transform_non_affine\u001b[1;34m(self, values)\u001b[0m\n\u001b[0;32m    367\u001b[0m abs_a \u001b[38;5;241m=\u001b[39m np\u001b[38;5;241m.\u001b[39mabs(values)\n\u001b[0;32m    368\u001b[0m \u001b[38;5;28;01mwith\u001b[39;00m np\u001b[38;5;241m.\u001b[39merrstate(divide\u001b[38;5;241m=\u001b[39m\u001b[38;5;124m\"\u001b[39m\u001b[38;5;124mignore\u001b[39m\u001b[38;5;124m\"\u001b[39m, invalid\u001b[38;5;241m=\u001b[39m\u001b[38;5;124m\"\u001b[39m\u001b[38;5;124mignore\u001b[39m\u001b[38;5;124m\"\u001b[39m):\n\u001b[0;32m    369\u001b[0m     out \u001b[38;5;241m=\u001b[39m np\u001b[38;5;241m.\u001b[39msign(values) \u001b[38;5;241m*\u001b[39m \u001b[38;5;28mself\u001b[39m\u001b[38;5;241m.\u001b[39mlinthresh \u001b[38;5;241m*\u001b[39m (\n\u001b[0;32m    370\u001b[0m         \u001b[38;5;28mself\u001b[39m\u001b[38;5;241m.\u001b[39m_linscale_adj \u001b[38;5;241m+\u001b[39m\n\u001b[1;32m--> 371\u001b[0m         \u001b[43mnp\u001b[49m\u001b[38;5;241;43m.\u001b[39;49m\u001b[43mlog\u001b[49m\u001b[43m(\u001b[49m\u001b[43mabs_a\u001b[49m\u001b[43m \u001b[49m\u001b[38;5;241;43m/\u001b[39;49m\u001b[43m \u001b[49m\u001b[38;5;28;43mself\u001b[39;49m\u001b[38;5;241;43m.\u001b[39;49m\u001b[43mlinthresh\u001b[49m\u001b[43m)\u001b[49m\u001b[43m \u001b[49m\u001b[38;5;241;43m/\u001b[39;49m\u001b[43m \u001b[49m\u001b[38;5;28;43mself\u001b[39;49m\u001b[38;5;241;43m.\u001b[39;49m\u001b[43m_log_base\u001b[49m)\n\u001b[0;32m    372\u001b[0m     inside \u001b[38;5;241m=\u001b[39m abs_a \u001b[38;5;241m<\u001b[39m\u001b[38;5;241m=\u001b[39m \u001b[38;5;28mself\u001b[39m\u001b[38;5;241m.\u001b[39mlinthresh\n\u001b[0;32m    373\u001b[0m out[inside] \u001b[38;5;241m=\u001b[39m values[inside] \u001b[38;5;241m*\u001b[39m \u001b[38;5;28mself\u001b[39m\u001b[38;5;241m.\u001b[39m_linscale_adj\n",
      "File \u001b[1;32mc:\\Python37\\lib\\site-packages\\numpy\\ma\\core.py:4242\u001b[0m, in \u001b[0;36mMaskedArray.__truediv__\u001b[1;34m(self, other)\u001b[0m\n\u001b[0;32m   4240\u001b[0m \u001b[38;5;28;01mif\u001b[39;00m \u001b[38;5;28mself\u001b[39m\u001b[38;5;241m.\u001b[39m_delegate_binop(other):\n\u001b[0;32m   4241\u001b[0m     \u001b[38;5;28;01mreturn\u001b[39;00m \u001b[38;5;28mNotImplemented\u001b[39m\n\u001b[1;32m-> 4242\u001b[0m \u001b[38;5;28;01mreturn\u001b[39;00m \u001b[43mtrue_divide\u001b[49m\u001b[43m(\u001b[49m\u001b[38;5;28;43mself\u001b[39;49m\u001b[43m,\u001b[49m\u001b[43m \u001b[49m\u001b[43mother\u001b[49m\u001b[43m)\u001b[49m\n",
      "File \u001b[1;32mc:\\Python37\\lib\\site-packages\\numpy\\ma\\core.py:1164\u001b[0m, in \u001b[0;36m_DomainedBinaryOperation.__call__\u001b[1;34m(self, a, b, *args, **kwargs)\u001b[0m\n\u001b[0;32m   1162\u001b[0m domain \u001b[38;5;241m=\u001b[39m ufunc_domain\u001b[38;5;241m.\u001b[39mget(\u001b[38;5;28mself\u001b[39m\u001b[38;5;241m.\u001b[39mf, \u001b[38;5;28;01mNone\u001b[39;00m)\n\u001b[0;32m   1163\u001b[0m \u001b[38;5;28;01mif\u001b[39;00m domain \u001b[38;5;129;01mis\u001b[39;00m \u001b[38;5;129;01mnot\u001b[39;00m \u001b[38;5;28;01mNone\u001b[39;00m:\n\u001b[1;32m-> 1164\u001b[0m     m \u001b[38;5;241m|\u001b[39m\u001b[38;5;241m=\u001b[39m \u001b[43mdomain\u001b[49m\u001b[43m(\u001b[49m\u001b[43mda\u001b[49m\u001b[43m,\u001b[49m\u001b[43m \u001b[49m\u001b[43mdb\u001b[49m\u001b[43m)\u001b[49m\n\u001b[0;32m   1165\u001b[0m \u001b[38;5;66;03m# Take care of the scalar case first\u001b[39;00m\n\u001b[0;32m   1166\u001b[0m \u001b[38;5;28;01mif\u001b[39;00m \u001b[38;5;129;01mnot\u001b[39;00m m\u001b[38;5;241m.\u001b[39mndim:\n",
      "File \u001b[1;32mc:\\Python37\\lib\\site-packages\\numpy\\ma\\core.py:851\u001b[0m, in \u001b[0;36m_DomainSafeDivide.__call__\u001b[1;34m(self, a, b)\u001b[0m\n\u001b[0;32m    849\u001b[0m a, b \u001b[38;5;241m=\u001b[39m np\u001b[38;5;241m.\u001b[39masarray(a), np\u001b[38;5;241m.\u001b[39masarray(b)\n\u001b[0;32m    850\u001b[0m \u001b[38;5;28;01mwith\u001b[39;00m np\u001b[38;5;241m.\u001b[39merrstate(invalid\u001b[38;5;241m=\u001b[39m\u001b[38;5;124m'\u001b[39m\u001b[38;5;124mignore\u001b[39m\u001b[38;5;124m'\u001b[39m):\n\u001b[1;32m--> 851\u001b[0m     \u001b[38;5;28;01mreturn\u001b[39;00m \u001b[43mumath\u001b[49m\u001b[38;5;241;43m.\u001b[39;49m\u001b[43mabsolute\u001b[49m\u001b[43m(\u001b[49m\u001b[43ma\u001b[49m\u001b[43m)\u001b[49m \u001b[38;5;241m*\u001b[39m \u001b[38;5;28mself\u001b[39m\u001b[38;5;241m.\u001b[39mtolerance \u001b[38;5;241m>\u001b[39m\u001b[38;5;241m=\u001b[39m umath\u001b[38;5;241m.\u001b[39mabsolute(b)\n",
      "\u001b[1;31mMemoryError\u001b[0m: Unable to allocate 64.7 MiB for an array with shape (8477838,) and data type float64"
     ]
    },
    {
     "name": "stdout",
     "output_type": "stream",
     "text": [
      "Error in callback <function _draw_all_if_interactive at 0x000002A2E6A58040> (for post_execute), with arguments args (),kwargs {}:\n"
     ]
    },
    {
     "ename": "MemoryError",
     "evalue": "Unable to allocate 64.6 MiB for an array with shape (1025, 8262) and data type int64",
     "output_type": "error",
     "traceback": [
      "\u001b[1;31m---------------------------------------------------------------------------\u001b[0m",
      "\u001b[1;31mMemoryError\u001b[0m                               Traceback (most recent call last)",
      "File \u001b[1;32mc:\\Python37\\lib\\site-packages\\matplotlib\\pyplot.py:268\u001b[0m, in \u001b[0;36m_draw_all_if_interactive\u001b[1;34m()\u001b[0m\n\u001b[0;32m    266\u001b[0m \u001b[38;5;28;01mdef\u001b[39;00m\u001b[38;5;250m \u001b[39m\u001b[38;5;21m_draw_all_if_interactive\u001b[39m() \u001b[38;5;241m-\u001b[39m\u001b[38;5;241m>\u001b[39m \u001b[38;5;28;01mNone\u001b[39;00m:\n\u001b[0;32m    267\u001b[0m     \u001b[38;5;28;01mif\u001b[39;00m matplotlib\u001b[38;5;241m.\u001b[39mis_interactive():\n\u001b[1;32m--> 268\u001b[0m         \u001b[43mdraw_all\u001b[49m\u001b[43m(\u001b[49m\u001b[43m)\u001b[49m\n",
      "File \u001b[1;32mc:\\Python37\\lib\\site-packages\\matplotlib\\_pylab_helpers.py:131\u001b[0m, in \u001b[0;36mGcf.draw_all\u001b[1;34m(cls, force)\u001b[0m\n\u001b[0;32m    129\u001b[0m \u001b[38;5;28;01mfor\u001b[39;00m manager \u001b[38;5;129;01min\u001b[39;00m \u001b[38;5;28mcls\u001b[39m\u001b[38;5;241m.\u001b[39mget_all_fig_managers():\n\u001b[0;32m    130\u001b[0m     \u001b[38;5;28;01mif\u001b[39;00m force \u001b[38;5;129;01mor\u001b[39;00m manager\u001b[38;5;241m.\u001b[39mcanvas\u001b[38;5;241m.\u001b[39mfigure\u001b[38;5;241m.\u001b[39mstale:\n\u001b[1;32m--> 131\u001b[0m         \u001b[43mmanager\u001b[49m\u001b[38;5;241;43m.\u001b[39;49m\u001b[43mcanvas\u001b[49m\u001b[38;5;241;43m.\u001b[39;49m\u001b[43mdraw_idle\u001b[49m\u001b[43m(\u001b[49m\u001b[43m)\u001b[49m\n",
      "File \u001b[1;32mc:\\Python37\\lib\\site-packages\\matplotlib\\backend_bases.py:1905\u001b[0m, in \u001b[0;36mFigureCanvasBase.draw_idle\u001b[1;34m(self, *args, **kwargs)\u001b[0m\n\u001b[0;32m   1903\u001b[0m \u001b[38;5;28;01mif\u001b[39;00m \u001b[38;5;129;01mnot\u001b[39;00m \u001b[38;5;28mself\u001b[39m\u001b[38;5;241m.\u001b[39m_is_idle_drawing:\n\u001b[0;32m   1904\u001b[0m     \u001b[38;5;28;01mwith\u001b[39;00m \u001b[38;5;28mself\u001b[39m\u001b[38;5;241m.\u001b[39m_idle_draw_cntx():\n\u001b[1;32m-> 1905\u001b[0m         \u001b[38;5;28mself\u001b[39m\u001b[38;5;241m.\u001b[39mdraw(\u001b[38;5;241m*\u001b[39margs, \u001b[38;5;241m*\u001b[39m\u001b[38;5;241m*\u001b[39mkwargs)\n",
      "File \u001b[1;32mc:\\Python37\\lib\\site-packages\\matplotlib\\backends\\backend_agg.py:387\u001b[0m, in \u001b[0;36mFigureCanvasAgg.draw\u001b[1;34m(self)\u001b[0m\n\u001b[0;32m    384\u001b[0m \u001b[38;5;66;03m# Acquire a lock on the shared font cache.\u001b[39;00m\n\u001b[0;32m    385\u001b[0m \u001b[38;5;28;01mwith\u001b[39;00m (\u001b[38;5;28mself\u001b[39m\u001b[38;5;241m.\u001b[39mtoolbar\u001b[38;5;241m.\u001b[39m_wait_cursor_for_draw_cm() \u001b[38;5;28;01mif\u001b[39;00m \u001b[38;5;28mself\u001b[39m\u001b[38;5;241m.\u001b[39mtoolbar\n\u001b[0;32m    386\u001b[0m       \u001b[38;5;28;01melse\u001b[39;00m nullcontext()):\n\u001b[1;32m--> 387\u001b[0m     \u001b[38;5;28;43mself\u001b[39;49m\u001b[38;5;241;43m.\u001b[39;49m\u001b[43mfigure\u001b[49m\u001b[38;5;241;43m.\u001b[39;49m\u001b[43mdraw\u001b[49m\u001b[43m(\u001b[49m\u001b[38;5;28;43mself\u001b[39;49m\u001b[38;5;241;43m.\u001b[39;49m\u001b[43mrenderer\u001b[49m\u001b[43m)\u001b[49m\n\u001b[0;32m    388\u001b[0m     \u001b[38;5;66;03m# A GUI class may be need to update a window using this draw, so\u001b[39;00m\n\u001b[0;32m    389\u001b[0m     \u001b[38;5;66;03m# don't forget to call the superclass.\u001b[39;00m\n\u001b[0;32m    390\u001b[0m     \u001b[38;5;28msuper\u001b[39m()\u001b[38;5;241m.\u001b[39mdraw()\n",
      "File \u001b[1;32mc:\\Python37\\lib\\site-packages\\matplotlib\\artist.py:95\u001b[0m, in \u001b[0;36m_finalize_rasterization.<locals>.draw_wrapper\u001b[1;34m(artist, renderer, *args, **kwargs)\u001b[0m\n\u001b[0;32m     93\u001b[0m \u001b[38;5;129m@wraps\u001b[39m(draw)\n\u001b[0;32m     94\u001b[0m \u001b[38;5;28;01mdef\u001b[39;00m\u001b[38;5;250m \u001b[39m\u001b[38;5;21mdraw_wrapper\u001b[39m(artist, renderer, \u001b[38;5;241m*\u001b[39margs, \u001b[38;5;241m*\u001b[39m\u001b[38;5;241m*\u001b[39mkwargs):\n\u001b[1;32m---> 95\u001b[0m     result \u001b[38;5;241m=\u001b[39m draw(artist, renderer, \u001b[38;5;241m*\u001b[39margs, \u001b[38;5;241m*\u001b[39m\u001b[38;5;241m*\u001b[39mkwargs)\n\u001b[0;32m     96\u001b[0m     \u001b[38;5;28;01mif\u001b[39;00m renderer\u001b[38;5;241m.\u001b[39m_rasterizing:\n\u001b[0;32m     97\u001b[0m         renderer\u001b[38;5;241m.\u001b[39mstop_rasterizing()\n",
      "File \u001b[1;32mc:\\Python37\\lib\\site-packages\\matplotlib\\artist.py:72\u001b[0m, in \u001b[0;36mallow_rasterization.<locals>.draw_wrapper\u001b[1;34m(artist, renderer)\u001b[0m\n\u001b[0;32m     69\u001b[0m     \u001b[38;5;28;01mif\u001b[39;00m artist\u001b[38;5;241m.\u001b[39mget_agg_filter() \u001b[38;5;129;01mis\u001b[39;00m \u001b[38;5;129;01mnot\u001b[39;00m \u001b[38;5;28;01mNone\u001b[39;00m:\n\u001b[0;32m     70\u001b[0m         renderer\u001b[38;5;241m.\u001b[39mstart_filter()\n\u001b[1;32m---> 72\u001b[0m     \u001b[38;5;28;01mreturn\u001b[39;00m \u001b[43mdraw\u001b[49m\u001b[43m(\u001b[49m\u001b[43martist\u001b[49m\u001b[43m,\u001b[49m\u001b[43m \u001b[49m\u001b[43mrenderer\u001b[49m\u001b[43m)\u001b[49m\n\u001b[0;32m     73\u001b[0m \u001b[38;5;28;01mfinally\u001b[39;00m:\n\u001b[0;32m     74\u001b[0m     \u001b[38;5;28;01mif\u001b[39;00m artist\u001b[38;5;241m.\u001b[39mget_agg_filter() \u001b[38;5;129;01mis\u001b[39;00m \u001b[38;5;129;01mnot\u001b[39;00m \u001b[38;5;28;01mNone\u001b[39;00m:\n",
      "File \u001b[1;32mc:\\Python37\\lib\\site-packages\\matplotlib\\figure.py:3162\u001b[0m, in \u001b[0;36mFigure.draw\u001b[1;34m(self, renderer)\u001b[0m\n\u001b[0;32m   3159\u001b[0m             \u001b[38;5;66;03m# ValueError can occur when resizing a window.\u001b[39;00m\n\u001b[0;32m   3161\u001b[0m     \u001b[38;5;28mself\u001b[39m\u001b[38;5;241m.\u001b[39mpatch\u001b[38;5;241m.\u001b[39mdraw(renderer)\n\u001b[1;32m-> 3162\u001b[0m     \u001b[43mmimage\u001b[49m\u001b[38;5;241;43m.\u001b[39;49m\u001b[43m_draw_list_compositing_images\u001b[49m\u001b[43m(\u001b[49m\n\u001b[0;32m   3163\u001b[0m \u001b[43m        \u001b[49m\u001b[43mrenderer\u001b[49m\u001b[43m,\u001b[49m\u001b[43m \u001b[49m\u001b[38;5;28;43mself\u001b[39;49m\u001b[43m,\u001b[49m\u001b[43m \u001b[49m\u001b[43martists\u001b[49m\u001b[43m,\u001b[49m\u001b[43m \u001b[49m\u001b[38;5;28;43mself\u001b[39;49m\u001b[38;5;241;43m.\u001b[39;49m\u001b[43msuppressComposite\u001b[49m\u001b[43m)\u001b[49m\n\u001b[0;32m   3165\u001b[0m     renderer\u001b[38;5;241m.\u001b[39mclose_group(\u001b[38;5;124m'\u001b[39m\u001b[38;5;124mfigure\u001b[39m\u001b[38;5;124m'\u001b[39m)\n\u001b[0;32m   3166\u001b[0m \u001b[38;5;28;01mfinally\u001b[39;00m:\n",
      "File \u001b[1;32mc:\\Python37\\lib\\site-packages\\matplotlib\\image.py:132\u001b[0m, in \u001b[0;36m_draw_list_compositing_images\u001b[1;34m(renderer, parent, artists, suppress_composite)\u001b[0m\n\u001b[0;32m    130\u001b[0m \u001b[38;5;28;01mif\u001b[39;00m not_composite \u001b[38;5;129;01mor\u001b[39;00m \u001b[38;5;129;01mnot\u001b[39;00m has_images:\n\u001b[0;32m    131\u001b[0m     \u001b[38;5;28;01mfor\u001b[39;00m a \u001b[38;5;129;01min\u001b[39;00m artists:\n\u001b[1;32m--> 132\u001b[0m         \u001b[43ma\u001b[49m\u001b[38;5;241;43m.\u001b[39;49m\u001b[43mdraw\u001b[49m\u001b[43m(\u001b[49m\u001b[43mrenderer\u001b[49m\u001b[43m)\u001b[49m\n\u001b[0;32m    133\u001b[0m \u001b[38;5;28;01melse\u001b[39;00m:\n\u001b[0;32m    134\u001b[0m     \u001b[38;5;66;03m# Composite any adjacent images together\u001b[39;00m\n\u001b[0;32m    135\u001b[0m     image_group \u001b[38;5;241m=\u001b[39m []\n",
      "File \u001b[1;32mc:\\Python37\\lib\\site-packages\\matplotlib\\artist.py:72\u001b[0m, in \u001b[0;36mallow_rasterization.<locals>.draw_wrapper\u001b[1;34m(artist, renderer)\u001b[0m\n\u001b[0;32m     69\u001b[0m     \u001b[38;5;28;01mif\u001b[39;00m artist\u001b[38;5;241m.\u001b[39mget_agg_filter() \u001b[38;5;129;01mis\u001b[39;00m \u001b[38;5;129;01mnot\u001b[39;00m \u001b[38;5;28;01mNone\u001b[39;00m:\n\u001b[0;32m     70\u001b[0m         renderer\u001b[38;5;241m.\u001b[39mstart_filter()\n\u001b[1;32m---> 72\u001b[0m     \u001b[38;5;28;01mreturn\u001b[39;00m \u001b[43mdraw\u001b[49m\u001b[43m(\u001b[49m\u001b[43martist\u001b[49m\u001b[43m,\u001b[49m\u001b[43m \u001b[49m\u001b[43mrenderer\u001b[49m\u001b[43m)\u001b[49m\n\u001b[0;32m     73\u001b[0m \u001b[38;5;28;01mfinally\u001b[39;00m:\n\u001b[0;32m     74\u001b[0m     \u001b[38;5;28;01mif\u001b[39;00m artist\u001b[38;5;241m.\u001b[39mget_agg_filter() \u001b[38;5;129;01mis\u001b[39;00m \u001b[38;5;129;01mnot\u001b[39;00m \u001b[38;5;28;01mNone\u001b[39;00m:\n",
      "File \u001b[1;32mc:\\Python37\\lib\\site-packages\\matplotlib\\axes\\_base.py:3137\u001b[0m, in \u001b[0;36m_AxesBase.draw\u001b[1;34m(self, renderer)\u001b[0m\n\u001b[0;32m   3134\u001b[0m \u001b[38;5;28;01mif\u001b[39;00m artists_rasterized:\n\u001b[0;32m   3135\u001b[0m     _draw_rasterized(\u001b[38;5;28mself\u001b[39m\u001b[38;5;241m.\u001b[39mfigure, artists_rasterized, renderer)\n\u001b[1;32m-> 3137\u001b[0m \u001b[43mmimage\u001b[49m\u001b[38;5;241;43m.\u001b[39;49m\u001b[43m_draw_list_compositing_images\u001b[49m\u001b[43m(\u001b[49m\n\u001b[0;32m   3138\u001b[0m \u001b[43m    \u001b[49m\u001b[43mrenderer\u001b[49m\u001b[43m,\u001b[49m\u001b[43m \u001b[49m\u001b[38;5;28;43mself\u001b[39;49m\u001b[43m,\u001b[49m\u001b[43m \u001b[49m\u001b[43martists\u001b[49m\u001b[43m,\u001b[49m\u001b[43m \u001b[49m\u001b[38;5;28;43mself\u001b[39;49m\u001b[38;5;241;43m.\u001b[39;49m\u001b[43mfigure\u001b[49m\u001b[38;5;241;43m.\u001b[39;49m\u001b[43msuppressComposite\u001b[49m\u001b[43m)\u001b[49m\n\u001b[0;32m   3140\u001b[0m renderer\u001b[38;5;241m.\u001b[39mclose_group(\u001b[38;5;124m'\u001b[39m\u001b[38;5;124maxes\u001b[39m\u001b[38;5;124m'\u001b[39m)\n\u001b[0;32m   3141\u001b[0m \u001b[38;5;28mself\u001b[39m\u001b[38;5;241m.\u001b[39mstale \u001b[38;5;241m=\u001b[39m \u001b[38;5;28;01mFalse\u001b[39;00m\n",
      "File \u001b[1;32mc:\\Python37\\lib\\site-packages\\matplotlib\\image.py:132\u001b[0m, in \u001b[0;36m_draw_list_compositing_images\u001b[1;34m(renderer, parent, artists, suppress_composite)\u001b[0m\n\u001b[0;32m    130\u001b[0m \u001b[38;5;28;01mif\u001b[39;00m not_composite \u001b[38;5;129;01mor\u001b[39;00m \u001b[38;5;129;01mnot\u001b[39;00m has_images:\n\u001b[0;32m    131\u001b[0m     \u001b[38;5;28;01mfor\u001b[39;00m a \u001b[38;5;129;01min\u001b[39;00m artists:\n\u001b[1;32m--> 132\u001b[0m         \u001b[43ma\u001b[49m\u001b[38;5;241;43m.\u001b[39;49m\u001b[43mdraw\u001b[49m\u001b[43m(\u001b[49m\u001b[43mrenderer\u001b[49m\u001b[43m)\u001b[49m\n\u001b[0;32m    133\u001b[0m \u001b[38;5;28;01melse\u001b[39;00m:\n\u001b[0;32m    134\u001b[0m     \u001b[38;5;66;03m# Composite any adjacent images together\u001b[39;00m\n\u001b[0;32m    135\u001b[0m     image_group \u001b[38;5;241m=\u001b[39m []\n",
      "File \u001b[1;32mc:\\Python37\\lib\\site-packages\\matplotlib\\artist.py:72\u001b[0m, in \u001b[0;36mallow_rasterization.<locals>.draw_wrapper\u001b[1;34m(artist, renderer)\u001b[0m\n\u001b[0;32m     69\u001b[0m     \u001b[38;5;28;01mif\u001b[39;00m artist\u001b[38;5;241m.\u001b[39mget_agg_filter() \u001b[38;5;129;01mis\u001b[39;00m \u001b[38;5;129;01mnot\u001b[39;00m \u001b[38;5;28;01mNone\u001b[39;00m:\n\u001b[0;32m     70\u001b[0m         renderer\u001b[38;5;241m.\u001b[39mstart_filter()\n\u001b[1;32m---> 72\u001b[0m     \u001b[38;5;28;01mreturn\u001b[39;00m \u001b[43mdraw\u001b[49m\u001b[43m(\u001b[49m\u001b[43martist\u001b[49m\u001b[43m,\u001b[49m\u001b[43m \u001b[49m\u001b[43mrenderer\u001b[49m\u001b[43m)\u001b[49m\n\u001b[0;32m     73\u001b[0m \u001b[38;5;28;01mfinally\u001b[39;00m:\n\u001b[0;32m     74\u001b[0m     \u001b[38;5;28;01mif\u001b[39;00m artist\u001b[38;5;241m.\u001b[39mget_agg_filter() \u001b[38;5;129;01mis\u001b[39;00m \u001b[38;5;129;01mnot\u001b[39;00m \u001b[38;5;28;01mNone\u001b[39;00m:\n",
      "File \u001b[1;32mc:\\Python37\\lib\\site-packages\\matplotlib\\collections.py:2179\u001b[0m, in \u001b[0;36mQuadMesh.draw\u001b[1;34m(self, renderer)\u001b[0m\n\u001b[0;32m   2176\u001b[0m     ys \u001b[38;5;241m=\u001b[39m \u001b[38;5;28mself\u001b[39m\u001b[38;5;241m.\u001b[39mconvert_yunits(offsets[:, \u001b[38;5;241m1\u001b[39m])\n\u001b[0;32m   2177\u001b[0m     offsets \u001b[38;5;241m=\u001b[39m np\u001b[38;5;241m.\u001b[39mcolumn_stack([xs, ys])\n\u001b[1;32m-> 2179\u001b[0m \u001b[38;5;28;43mself\u001b[39;49m\u001b[38;5;241;43m.\u001b[39;49m\u001b[43mupdate_scalarmappable\u001b[49m\u001b[43m(\u001b[49m\u001b[43m)\u001b[49m\n\u001b[0;32m   2181\u001b[0m \u001b[38;5;28;01mif\u001b[39;00m \u001b[38;5;129;01mnot\u001b[39;00m transform\u001b[38;5;241m.\u001b[39mis_affine:\n\u001b[0;32m   2182\u001b[0m     coordinates \u001b[38;5;241m=\u001b[39m \u001b[38;5;28mself\u001b[39m\u001b[38;5;241m.\u001b[39m_coordinates\u001b[38;5;241m.\u001b[39mreshape((\u001b[38;5;241m-\u001b[39m\u001b[38;5;241m1\u001b[39m, \u001b[38;5;241m2\u001b[39m))\n",
      "File \u001b[1;32mc:\\Python37\\lib\\site-packages\\matplotlib\\collections.py:920\u001b[0m, in \u001b[0;36mCollection.update_scalarmappable\u001b[1;34m(self)\u001b[0m\n\u001b[0;32m    918\u001b[0m         \u001b[38;5;66;03m# pcolormesh, scatter, maybe others flatten their _A\u001b[39;00m\n\u001b[0;32m    919\u001b[0m         \u001b[38;5;28mself\u001b[39m\u001b[38;5;241m.\u001b[39m_alpha \u001b[38;5;241m=\u001b[39m \u001b[38;5;28mself\u001b[39m\u001b[38;5;241m.\u001b[39m_alpha\u001b[38;5;241m.\u001b[39mreshape(\u001b[38;5;28mself\u001b[39m\u001b[38;5;241m.\u001b[39m_A\u001b[38;5;241m.\u001b[39mshape)\n\u001b[1;32m--> 920\u001b[0m     \u001b[38;5;28mself\u001b[39m\u001b[38;5;241m.\u001b[39m_mapped_colors \u001b[38;5;241m=\u001b[39m \u001b[38;5;28;43mself\u001b[39;49m\u001b[38;5;241;43m.\u001b[39;49m\u001b[43mto_rgba\u001b[49m\u001b[43m(\u001b[49m\u001b[38;5;28;43mself\u001b[39;49m\u001b[38;5;241;43m.\u001b[39;49m\u001b[43m_A\u001b[49m\u001b[43m,\u001b[49m\u001b[43m \u001b[49m\u001b[38;5;28;43mself\u001b[39;49m\u001b[38;5;241;43m.\u001b[39;49m\u001b[43m_alpha\u001b[49m\u001b[43m)\u001b[49m\n\u001b[0;32m    922\u001b[0m \u001b[38;5;28;01mif\u001b[39;00m \u001b[38;5;28mself\u001b[39m\u001b[38;5;241m.\u001b[39m_face_is_mapped:\n\u001b[0;32m    923\u001b[0m     \u001b[38;5;28mself\u001b[39m\u001b[38;5;241m.\u001b[39m_facecolors \u001b[38;5;241m=\u001b[39m \u001b[38;5;28mself\u001b[39m\u001b[38;5;241m.\u001b[39m_mapped_colors\n",
      "File \u001b[1;32mc:\\Python37\\lib\\site-packages\\matplotlib\\cm.py:431\u001b[0m, in \u001b[0;36mScalarMappable.to_rgba\u001b[1;34m(self, x, alpha, bytes, norm)\u001b[0m\n\u001b[0;32m    429\u001b[0m \u001b[38;5;28;01mif\u001b[39;00m norm:\n\u001b[0;32m    430\u001b[0m     x \u001b[38;5;241m=\u001b[39m \u001b[38;5;28mself\u001b[39m\u001b[38;5;241m.\u001b[39mnorm(x)\n\u001b[1;32m--> 431\u001b[0m rgba \u001b[38;5;241m=\u001b[39m \u001b[38;5;28;43mself\u001b[39;49m\u001b[38;5;241;43m.\u001b[39;49m\u001b[43mcmap\u001b[49m\u001b[43m(\u001b[49m\u001b[43mx\u001b[49m\u001b[43m,\u001b[49m\u001b[43m \u001b[49m\u001b[43malpha\u001b[49m\u001b[38;5;241;43m=\u001b[39;49m\u001b[43malpha\u001b[49m\u001b[43m,\u001b[49m\u001b[43m \u001b[49m\u001b[38;5;28;43mbytes\u001b[39;49m\u001b[38;5;241;43m=\u001b[39;49m\u001b[38;5;28;43mbytes\u001b[39;49m\u001b[43m)\u001b[49m\n\u001b[0;32m    432\u001b[0m \u001b[38;5;28;01mreturn\u001b[39;00m rgba\n",
      "File \u001b[1;32mc:\\Python37\\lib\\site-packages\\matplotlib\\colors.py:764\u001b[0m, in \u001b[0;36mColormap.__call__\u001b[1;34m(self, X, alpha, bytes)\u001b[0m\n\u001b[0;32m    761\u001b[0m \u001b[38;5;28;01mif\u001b[39;00m \u001b[38;5;28mbytes\u001b[39m:\n\u001b[0;32m    762\u001b[0m     lut \u001b[38;5;241m=\u001b[39m (lut \u001b[38;5;241m*\u001b[39m \u001b[38;5;241m255\u001b[39m)\u001b[38;5;241m.\u001b[39mastype(np\u001b[38;5;241m.\u001b[39muint8)\n\u001b[1;32m--> 764\u001b[0m rgba \u001b[38;5;241m=\u001b[39m \u001b[43mlut\u001b[49m\u001b[38;5;241;43m.\u001b[39;49m\u001b[43mtake\u001b[49m\u001b[43m(\u001b[49m\u001b[43mxa\u001b[49m\u001b[43m,\u001b[49m\u001b[43m \u001b[49m\u001b[43maxis\u001b[49m\u001b[38;5;241;43m=\u001b[39;49m\u001b[38;5;241;43m0\u001b[39;49m\u001b[43m,\u001b[49m\u001b[43m \u001b[49m\u001b[43mmode\u001b[49m\u001b[38;5;241;43m=\u001b[39;49m\u001b[38;5;124;43m'\u001b[39;49m\u001b[38;5;124;43mclip\u001b[39;49m\u001b[38;5;124;43m'\u001b[39;49m\u001b[43m)\u001b[49m\n\u001b[0;32m    766\u001b[0m \u001b[38;5;28;01mif\u001b[39;00m alpha \u001b[38;5;129;01mis\u001b[39;00m \u001b[38;5;129;01mnot\u001b[39;00m \u001b[38;5;28;01mNone\u001b[39;00m:\n\u001b[0;32m    767\u001b[0m     alpha \u001b[38;5;241m=\u001b[39m np\u001b[38;5;241m.\u001b[39mclip(alpha, \u001b[38;5;241m0\u001b[39m, \u001b[38;5;241m1\u001b[39m)\n",
      "\u001b[1;31mMemoryError\u001b[0m: Unable to allocate 64.6 MiB for an array with shape (1025, 8262) and data type int64"
     ]
    },
    {
     "ename": "MemoryError",
     "evalue": "Unable to allocate 32.3 MiB for an array with shape (1025, 8262) and data type float32",
     "output_type": "error",
     "traceback": [
      "\u001b[1;31m---------------------------------------------------------------------------\u001b[0m",
      "\u001b[1;31mMemoryError\u001b[0m                               Traceback (most recent call last)",
      "File \u001b[1;32m~\\AppData\\Roaming\\Python\\Python39\\site-packages\\IPython\\core\\formatters.py:340\u001b[0m, in \u001b[0;36mBaseFormatter.__call__\u001b[1;34m(self, obj)\u001b[0m\n\u001b[0;32m    338\u001b[0m     \u001b[38;5;28;01mpass\u001b[39;00m\n\u001b[0;32m    339\u001b[0m \u001b[38;5;28;01melse\u001b[39;00m:\n\u001b[1;32m--> 340\u001b[0m     \u001b[38;5;28;01mreturn\u001b[39;00m \u001b[43mprinter\u001b[49m\u001b[43m(\u001b[49m\u001b[43mobj\u001b[49m\u001b[43m)\u001b[49m\n\u001b[0;32m    341\u001b[0m \u001b[38;5;66;03m# Finally look for special method names\u001b[39;00m\n\u001b[0;32m    342\u001b[0m method \u001b[38;5;241m=\u001b[39m get_real_method(obj, \u001b[38;5;28mself\u001b[39m\u001b[38;5;241m.\u001b[39mprint_method)\n",
      "File \u001b[1;32m~\\AppData\\Roaming\\Python\\Python39\\site-packages\\IPython\\core\\pylabtools.py:152\u001b[0m, in \u001b[0;36mprint_figure\u001b[1;34m(fig, fmt, bbox_inches, base64, **kwargs)\u001b[0m\n\u001b[0;32m    149\u001b[0m     \u001b[38;5;28;01mfrom\u001b[39;00m\u001b[38;5;250m \u001b[39m\u001b[38;5;21;01mmatplotlib\u001b[39;00m\u001b[38;5;21;01m.\u001b[39;00m\u001b[38;5;21;01mbackend_bases\u001b[39;00m\u001b[38;5;250m \u001b[39m\u001b[38;5;28;01mimport\u001b[39;00m FigureCanvasBase\n\u001b[0;32m    150\u001b[0m     FigureCanvasBase(fig)\n\u001b[1;32m--> 152\u001b[0m fig\u001b[38;5;241m.\u001b[39mcanvas\u001b[38;5;241m.\u001b[39mprint_figure(bytes_io, \u001b[38;5;241m*\u001b[39m\u001b[38;5;241m*\u001b[39mkw)\n\u001b[0;32m    153\u001b[0m data \u001b[38;5;241m=\u001b[39m bytes_io\u001b[38;5;241m.\u001b[39mgetvalue()\n\u001b[0;32m    154\u001b[0m \u001b[38;5;28;01mif\u001b[39;00m fmt \u001b[38;5;241m==\u001b[39m \u001b[38;5;124m'\u001b[39m\u001b[38;5;124msvg\u001b[39m\u001b[38;5;124m'\u001b[39m:\n",
      "File \u001b[1;32mc:\\Python37\\lib\\site-packages\\matplotlib\\backend_bases.py:2175\u001b[0m, in \u001b[0;36mFigureCanvasBase.print_figure\u001b[1;34m(self, filename, dpi, facecolor, edgecolor, orientation, format, bbox_inches, pad_inches, bbox_extra_artists, backend, **kwargs)\u001b[0m\n\u001b[0;32m   2172\u001b[0m     \u001b[38;5;66;03m# we do this instead of `self.figure.draw_without_rendering`\u001b[39;00m\n\u001b[0;32m   2173\u001b[0m     \u001b[38;5;66;03m# so that we can inject the orientation\u001b[39;00m\n\u001b[0;32m   2174\u001b[0m     \u001b[38;5;28;01mwith\u001b[39;00m \u001b[38;5;28mgetattr\u001b[39m(renderer, \u001b[38;5;124m\"\u001b[39m\u001b[38;5;124m_draw_disabled\u001b[39m\u001b[38;5;124m\"\u001b[39m, nullcontext)():\n\u001b[1;32m-> 2175\u001b[0m         \u001b[38;5;28;43mself\u001b[39;49m\u001b[38;5;241;43m.\u001b[39;49m\u001b[43mfigure\u001b[49m\u001b[38;5;241;43m.\u001b[39;49m\u001b[43mdraw\u001b[49m\u001b[43m(\u001b[49m\u001b[43mrenderer\u001b[49m\u001b[43m)\u001b[49m\n\u001b[0;32m   2176\u001b[0m \u001b[38;5;28;01mif\u001b[39;00m bbox_inches:\n\u001b[0;32m   2177\u001b[0m     \u001b[38;5;28;01mif\u001b[39;00m bbox_inches \u001b[38;5;241m==\u001b[39m \u001b[38;5;124m\"\u001b[39m\u001b[38;5;124mtight\u001b[39m\u001b[38;5;124m\"\u001b[39m:\n",
      "File \u001b[1;32mc:\\Python37\\lib\\site-packages\\matplotlib\\artist.py:95\u001b[0m, in \u001b[0;36m_finalize_rasterization.<locals>.draw_wrapper\u001b[1;34m(artist, renderer, *args, **kwargs)\u001b[0m\n\u001b[0;32m     93\u001b[0m \u001b[38;5;129m@wraps\u001b[39m(draw)\n\u001b[0;32m     94\u001b[0m \u001b[38;5;28;01mdef\u001b[39;00m\u001b[38;5;250m \u001b[39m\u001b[38;5;21mdraw_wrapper\u001b[39m(artist, renderer, \u001b[38;5;241m*\u001b[39margs, \u001b[38;5;241m*\u001b[39m\u001b[38;5;241m*\u001b[39mkwargs):\n\u001b[1;32m---> 95\u001b[0m     result \u001b[38;5;241m=\u001b[39m draw(artist, renderer, \u001b[38;5;241m*\u001b[39margs, \u001b[38;5;241m*\u001b[39m\u001b[38;5;241m*\u001b[39mkwargs)\n\u001b[0;32m     96\u001b[0m     \u001b[38;5;28;01mif\u001b[39;00m renderer\u001b[38;5;241m.\u001b[39m_rasterizing:\n\u001b[0;32m     97\u001b[0m         renderer\u001b[38;5;241m.\u001b[39mstop_rasterizing()\n",
      "File \u001b[1;32mc:\\Python37\\lib\\site-packages\\matplotlib\\artist.py:72\u001b[0m, in \u001b[0;36mallow_rasterization.<locals>.draw_wrapper\u001b[1;34m(artist, renderer)\u001b[0m\n\u001b[0;32m     69\u001b[0m     \u001b[38;5;28;01mif\u001b[39;00m artist\u001b[38;5;241m.\u001b[39mget_agg_filter() \u001b[38;5;129;01mis\u001b[39;00m \u001b[38;5;129;01mnot\u001b[39;00m \u001b[38;5;28;01mNone\u001b[39;00m:\n\u001b[0;32m     70\u001b[0m         renderer\u001b[38;5;241m.\u001b[39mstart_filter()\n\u001b[1;32m---> 72\u001b[0m     \u001b[38;5;28;01mreturn\u001b[39;00m \u001b[43mdraw\u001b[49m\u001b[43m(\u001b[49m\u001b[43martist\u001b[49m\u001b[43m,\u001b[49m\u001b[43m \u001b[49m\u001b[43mrenderer\u001b[49m\u001b[43m)\u001b[49m\n\u001b[0;32m     73\u001b[0m \u001b[38;5;28;01mfinally\u001b[39;00m:\n\u001b[0;32m     74\u001b[0m     \u001b[38;5;28;01mif\u001b[39;00m artist\u001b[38;5;241m.\u001b[39mget_agg_filter() \u001b[38;5;129;01mis\u001b[39;00m \u001b[38;5;129;01mnot\u001b[39;00m \u001b[38;5;28;01mNone\u001b[39;00m:\n",
      "File \u001b[1;32mc:\\Python37\\lib\\site-packages\\matplotlib\\figure.py:3162\u001b[0m, in \u001b[0;36mFigure.draw\u001b[1;34m(self, renderer)\u001b[0m\n\u001b[0;32m   3159\u001b[0m             \u001b[38;5;66;03m# ValueError can occur when resizing a window.\u001b[39;00m\n\u001b[0;32m   3161\u001b[0m     \u001b[38;5;28mself\u001b[39m\u001b[38;5;241m.\u001b[39mpatch\u001b[38;5;241m.\u001b[39mdraw(renderer)\n\u001b[1;32m-> 3162\u001b[0m     \u001b[43mmimage\u001b[49m\u001b[38;5;241;43m.\u001b[39;49m\u001b[43m_draw_list_compositing_images\u001b[49m\u001b[43m(\u001b[49m\n\u001b[0;32m   3163\u001b[0m \u001b[43m        \u001b[49m\u001b[43mrenderer\u001b[49m\u001b[43m,\u001b[49m\u001b[43m \u001b[49m\u001b[38;5;28;43mself\u001b[39;49m\u001b[43m,\u001b[49m\u001b[43m \u001b[49m\u001b[43martists\u001b[49m\u001b[43m,\u001b[49m\u001b[43m \u001b[49m\u001b[38;5;28;43mself\u001b[39;49m\u001b[38;5;241;43m.\u001b[39;49m\u001b[43msuppressComposite\u001b[49m\u001b[43m)\u001b[49m\n\u001b[0;32m   3165\u001b[0m     renderer\u001b[38;5;241m.\u001b[39mclose_group(\u001b[38;5;124m'\u001b[39m\u001b[38;5;124mfigure\u001b[39m\u001b[38;5;124m'\u001b[39m)\n\u001b[0;32m   3166\u001b[0m \u001b[38;5;28;01mfinally\u001b[39;00m:\n",
      "File \u001b[1;32mc:\\Python37\\lib\\site-packages\\matplotlib\\image.py:132\u001b[0m, in \u001b[0;36m_draw_list_compositing_images\u001b[1;34m(renderer, parent, artists, suppress_composite)\u001b[0m\n\u001b[0;32m    130\u001b[0m \u001b[38;5;28;01mif\u001b[39;00m not_composite \u001b[38;5;129;01mor\u001b[39;00m \u001b[38;5;129;01mnot\u001b[39;00m has_images:\n\u001b[0;32m    131\u001b[0m     \u001b[38;5;28;01mfor\u001b[39;00m a \u001b[38;5;129;01min\u001b[39;00m artists:\n\u001b[1;32m--> 132\u001b[0m         \u001b[43ma\u001b[49m\u001b[38;5;241;43m.\u001b[39;49m\u001b[43mdraw\u001b[49m\u001b[43m(\u001b[49m\u001b[43mrenderer\u001b[49m\u001b[43m)\u001b[49m\n\u001b[0;32m    133\u001b[0m \u001b[38;5;28;01melse\u001b[39;00m:\n\u001b[0;32m    134\u001b[0m     \u001b[38;5;66;03m# Composite any adjacent images together\u001b[39;00m\n\u001b[0;32m    135\u001b[0m     image_group \u001b[38;5;241m=\u001b[39m []\n",
      "File \u001b[1;32mc:\\Python37\\lib\\site-packages\\matplotlib\\artist.py:72\u001b[0m, in \u001b[0;36mallow_rasterization.<locals>.draw_wrapper\u001b[1;34m(artist, renderer)\u001b[0m\n\u001b[0;32m     69\u001b[0m     \u001b[38;5;28;01mif\u001b[39;00m artist\u001b[38;5;241m.\u001b[39mget_agg_filter() \u001b[38;5;129;01mis\u001b[39;00m \u001b[38;5;129;01mnot\u001b[39;00m \u001b[38;5;28;01mNone\u001b[39;00m:\n\u001b[0;32m     70\u001b[0m         renderer\u001b[38;5;241m.\u001b[39mstart_filter()\n\u001b[1;32m---> 72\u001b[0m     \u001b[38;5;28;01mreturn\u001b[39;00m \u001b[43mdraw\u001b[49m\u001b[43m(\u001b[49m\u001b[43martist\u001b[49m\u001b[43m,\u001b[49m\u001b[43m \u001b[49m\u001b[43mrenderer\u001b[49m\u001b[43m)\u001b[49m\n\u001b[0;32m     73\u001b[0m \u001b[38;5;28;01mfinally\u001b[39;00m:\n\u001b[0;32m     74\u001b[0m     \u001b[38;5;28;01mif\u001b[39;00m artist\u001b[38;5;241m.\u001b[39mget_agg_filter() \u001b[38;5;129;01mis\u001b[39;00m \u001b[38;5;129;01mnot\u001b[39;00m \u001b[38;5;28;01mNone\u001b[39;00m:\n",
      "File \u001b[1;32mc:\\Python37\\lib\\site-packages\\matplotlib\\axes\\_base.py:3137\u001b[0m, in \u001b[0;36m_AxesBase.draw\u001b[1;34m(self, renderer)\u001b[0m\n\u001b[0;32m   3134\u001b[0m \u001b[38;5;28;01mif\u001b[39;00m artists_rasterized:\n\u001b[0;32m   3135\u001b[0m     _draw_rasterized(\u001b[38;5;28mself\u001b[39m\u001b[38;5;241m.\u001b[39mfigure, artists_rasterized, renderer)\n\u001b[1;32m-> 3137\u001b[0m \u001b[43mmimage\u001b[49m\u001b[38;5;241;43m.\u001b[39;49m\u001b[43m_draw_list_compositing_images\u001b[49m\u001b[43m(\u001b[49m\n\u001b[0;32m   3138\u001b[0m \u001b[43m    \u001b[49m\u001b[43mrenderer\u001b[49m\u001b[43m,\u001b[49m\u001b[43m \u001b[49m\u001b[38;5;28;43mself\u001b[39;49m\u001b[43m,\u001b[49m\u001b[43m \u001b[49m\u001b[43martists\u001b[49m\u001b[43m,\u001b[49m\u001b[43m \u001b[49m\u001b[38;5;28;43mself\u001b[39;49m\u001b[38;5;241;43m.\u001b[39;49m\u001b[43mfigure\u001b[49m\u001b[38;5;241;43m.\u001b[39;49m\u001b[43msuppressComposite\u001b[49m\u001b[43m)\u001b[49m\n\u001b[0;32m   3140\u001b[0m renderer\u001b[38;5;241m.\u001b[39mclose_group(\u001b[38;5;124m'\u001b[39m\u001b[38;5;124maxes\u001b[39m\u001b[38;5;124m'\u001b[39m)\n\u001b[0;32m   3141\u001b[0m \u001b[38;5;28mself\u001b[39m\u001b[38;5;241m.\u001b[39mstale \u001b[38;5;241m=\u001b[39m \u001b[38;5;28;01mFalse\u001b[39;00m\n",
      "File \u001b[1;32mc:\\Python37\\lib\\site-packages\\matplotlib\\image.py:132\u001b[0m, in \u001b[0;36m_draw_list_compositing_images\u001b[1;34m(renderer, parent, artists, suppress_composite)\u001b[0m\n\u001b[0;32m    130\u001b[0m \u001b[38;5;28;01mif\u001b[39;00m not_composite \u001b[38;5;129;01mor\u001b[39;00m \u001b[38;5;129;01mnot\u001b[39;00m has_images:\n\u001b[0;32m    131\u001b[0m     \u001b[38;5;28;01mfor\u001b[39;00m a \u001b[38;5;129;01min\u001b[39;00m artists:\n\u001b[1;32m--> 132\u001b[0m         \u001b[43ma\u001b[49m\u001b[38;5;241;43m.\u001b[39;49m\u001b[43mdraw\u001b[49m\u001b[43m(\u001b[49m\u001b[43mrenderer\u001b[49m\u001b[43m)\u001b[49m\n\u001b[0;32m    133\u001b[0m \u001b[38;5;28;01melse\u001b[39;00m:\n\u001b[0;32m    134\u001b[0m     \u001b[38;5;66;03m# Composite any adjacent images together\u001b[39;00m\n\u001b[0;32m    135\u001b[0m     image_group \u001b[38;5;241m=\u001b[39m []\n",
      "File \u001b[1;32mc:\\Python37\\lib\\site-packages\\matplotlib\\artist.py:72\u001b[0m, in \u001b[0;36mallow_rasterization.<locals>.draw_wrapper\u001b[1;34m(artist, renderer)\u001b[0m\n\u001b[0;32m     69\u001b[0m     \u001b[38;5;28;01mif\u001b[39;00m artist\u001b[38;5;241m.\u001b[39mget_agg_filter() \u001b[38;5;129;01mis\u001b[39;00m \u001b[38;5;129;01mnot\u001b[39;00m \u001b[38;5;28;01mNone\u001b[39;00m:\n\u001b[0;32m     70\u001b[0m         renderer\u001b[38;5;241m.\u001b[39mstart_filter()\n\u001b[1;32m---> 72\u001b[0m     \u001b[38;5;28;01mreturn\u001b[39;00m \u001b[43mdraw\u001b[49m\u001b[43m(\u001b[49m\u001b[43martist\u001b[49m\u001b[43m,\u001b[49m\u001b[43m \u001b[49m\u001b[43mrenderer\u001b[49m\u001b[43m)\u001b[49m\n\u001b[0;32m     73\u001b[0m \u001b[38;5;28;01mfinally\u001b[39;00m:\n\u001b[0;32m     74\u001b[0m     \u001b[38;5;28;01mif\u001b[39;00m artist\u001b[38;5;241m.\u001b[39mget_agg_filter() \u001b[38;5;129;01mis\u001b[39;00m \u001b[38;5;129;01mnot\u001b[39;00m \u001b[38;5;28;01mNone\u001b[39;00m:\n",
      "File \u001b[1;32mc:\\Python37\\lib\\site-packages\\matplotlib\\collections.py:2179\u001b[0m, in \u001b[0;36mQuadMesh.draw\u001b[1;34m(self, renderer)\u001b[0m\n\u001b[0;32m   2176\u001b[0m     ys \u001b[38;5;241m=\u001b[39m \u001b[38;5;28mself\u001b[39m\u001b[38;5;241m.\u001b[39mconvert_yunits(offsets[:, \u001b[38;5;241m1\u001b[39m])\n\u001b[0;32m   2177\u001b[0m     offsets \u001b[38;5;241m=\u001b[39m np\u001b[38;5;241m.\u001b[39mcolumn_stack([xs, ys])\n\u001b[1;32m-> 2179\u001b[0m \u001b[38;5;28;43mself\u001b[39;49m\u001b[38;5;241;43m.\u001b[39;49m\u001b[43mupdate_scalarmappable\u001b[49m\u001b[43m(\u001b[49m\u001b[43m)\u001b[49m\n\u001b[0;32m   2181\u001b[0m \u001b[38;5;28;01mif\u001b[39;00m \u001b[38;5;129;01mnot\u001b[39;00m transform\u001b[38;5;241m.\u001b[39mis_affine:\n\u001b[0;32m   2182\u001b[0m     coordinates \u001b[38;5;241m=\u001b[39m \u001b[38;5;28mself\u001b[39m\u001b[38;5;241m.\u001b[39m_coordinates\u001b[38;5;241m.\u001b[39mreshape((\u001b[38;5;241m-\u001b[39m\u001b[38;5;241m1\u001b[39m, \u001b[38;5;241m2\u001b[39m))\n",
      "File \u001b[1;32mc:\\Python37\\lib\\site-packages\\matplotlib\\collections.py:920\u001b[0m, in \u001b[0;36mCollection.update_scalarmappable\u001b[1;34m(self)\u001b[0m\n\u001b[0;32m    918\u001b[0m         \u001b[38;5;66;03m# pcolormesh, scatter, maybe others flatten their _A\u001b[39;00m\n\u001b[0;32m    919\u001b[0m         \u001b[38;5;28mself\u001b[39m\u001b[38;5;241m.\u001b[39m_alpha \u001b[38;5;241m=\u001b[39m \u001b[38;5;28mself\u001b[39m\u001b[38;5;241m.\u001b[39m_alpha\u001b[38;5;241m.\u001b[39mreshape(\u001b[38;5;28mself\u001b[39m\u001b[38;5;241m.\u001b[39m_A\u001b[38;5;241m.\u001b[39mshape)\n\u001b[1;32m--> 920\u001b[0m     \u001b[38;5;28mself\u001b[39m\u001b[38;5;241m.\u001b[39m_mapped_colors \u001b[38;5;241m=\u001b[39m \u001b[38;5;28;43mself\u001b[39;49m\u001b[38;5;241;43m.\u001b[39;49m\u001b[43mto_rgba\u001b[49m\u001b[43m(\u001b[49m\u001b[38;5;28;43mself\u001b[39;49m\u001b[38;5;241;43m.\u001b[39;49m\u001b[43m_A\u001b[49m\u001b[43m,\u001b[49m\u001b[43m \u001b[49m\u001b[38;5;28;43mself\u001b[39;49m\u001b[38;5;241;43m.\u001b[39;49m\u001b[43m_alpha\u001b[49m\u001b[43m)\u001b[49m\n\u001b[0;32m    922\u001b[0m \u001b[38;5;28;01mif\u001b[39;00m \u001b[38;5;28mself\u001b[39m\u001b[38;5;241m.\u001b[39m_face_is_mapped:\n\u001b[0;32m    923\u001b[0m     \u001b[38;5;28mself\u001b[39m\u001b[38;5;241m.\u001b[39m_facecolors \u001b[38;5;241m=\u001b[39m \u001b[38;5;28mself\u001b[39m\u001b[38;5;241m.\u001b[39m_mapped_colors\n",
      "File \u001b[1;32mc:\\Python37\\lib\\site-packages\\matplotlib\\cm.py:430\u001b[0m, in \u001b[0;36mScalarMappable.to_rgba\u001b[1;34m(self, x, alpha, bytes, norm)\u001b[0m\n\u001b[0;32m    428\u001b[0m x \u001b[38;5;241m=\u001b[39m ma\u001b[38;5;241m.\u001b[39masarray(x)\n\u001b[0;32m    429\u001b[0m \u001b[38;5;28;01mif\u001b[39;00m norm:\n\u001b[1;32m--> 430\u001b[0m     x \u001b[38;5;241m=\u001b[39m \u001b[38;5;28;43mself\u001b[39;49m\u001b[38;5;241;43m.\u001b[39;49m\u001b[43mnorm\u001b[49m\u001b[43m(\u001b[49m\u001b[43mx\u001b[49m\u001b[43m)\u001b[49m\n\u001b[0;32m    431\u001b[0m rgba \u001b[38;5;241m=\u001b[39m \u001b[38;5;28mself\u001b[39m\u001b[38;5;241m.\u001b[39mcmap(x, alpha\u001b[38;5;241m=\u001b[39malpha, \u001b[38;5;28mbytes\u001b[39m\u001b[38;5;241m=\u001b[39m\u001b[38;5;28mbytes\u001b[39m)\n\u001b[0;32m    432\u001b[0m \u001b[38;5;28;01mreturn\u001b[39;00m rgba\n",
      "File \u001b[1;32mc:\\Python37\\lib\\site-packages\\matplotlib\\colors.py:1386\u001b[0m, in \u001b[0;36mNormalize.__call__\u001b[1;34m(self, value, clip)\u001b[0m\n\u001b[0;32m   1383\u001b[0m \u001b[38;5;28;01mif\u001b[39;00m clip \u001b[38;5;129;01mis\u001b[39;00m \u001b[38;5;28;01mNone\u001b[39;00m:\n\u001b[0;32m   1384\u001b[0m     clip \u001b[38;5;241m=\u001b[39m \u001b[38;5;28mself\u001b[39m\u001b[38;5;241m.\u001b[39mclip\n\u001b[1;32m-> 1386\u001b[0m result, is_scalar \u001b[38;5;241m=\u001b[39m \u001b[38;5;28;43mself\u001b[39;49m\u001b[38;5;241;43m.\u001b[39;49m\u001b[43mprocess_value\u001b[49m\u001b[43m(\u001b[49m\u001b[43mvalue\u001b[49m\u001b[43m)\u001b[49m\n\u001b[0;32m   1388\u001b[0m \u001b[38;5;28;01mif\u001b[39;00m \u001b[38;5;28mself\u001b[39m\u001b[38;5;241m.\u001b[39mvmin \u001b[38;5;129;01mis\u001b[39;00m \u001b[38;5;28;01mNone\u001b[39;00m \u001b[38;5;129;01mor\u001b[39;00m \u001b[38;5;28mself\u001b[39m\u001b[38;5;241m.\u001b[39mvmax \u001b[38;5;129;01mis\u001b[39;00m \u001b[38;5;28;01mNone\u001b[39;00m:\n\u001b[0;32m   1389\u001b[0m     \u001b[38;5;28mself\u001b[39m\u001b[38;5;241m.\u001b[39mautoscale_None(result)\n",
      "File \u001b[1;32mc:\\Python37\\lib\\site-packages\\matplotlib\\colors.py:1361\u001b[0m, in \u001b[0;36mNormalize.process_value\u001b[1;34m(value)\u001b[0m\n\u001b[0;32m   1359\u001b[0m mask \u001b[38;5;241m=\u001b[39m np\u001b[38;5;241m.\u001b[39mma\u001b[38;5;241m.\u001b[39mgetmask(value)\n\u001b[0;32m   1360\u001b[0m data \u001b[38;5;241m=\u001b[39m np\u001b[38;5;241m.\u001b[39masarray(value)\n\u001b[1;32m-> 1361\u001b[0m result \u001b[38;5;241m=\u001b[39m \u001b[43mnp\u001b[49m\u001b[38;5;241;43m.\u001b[39;49m\u001b[43mma\u001b[49m\u001b[38;5;241;43m.\u001b[39;49m\u001b[43marray\u001b[49m\u001b[43m(\u001b[49m\u001b[43mdata\u001b[49m\u001b[43m,\u001b[49m\u001b[43m \u001b[49m\u001b[43mmask\u001b[49m\u001b[38;5;241;43m=\u001b[39;49m\u001b[43mmask\u001b[49m\u001b[43m,\u001b[49m\u001b[43m \u001b[49m\u001b[43mdtype\u001b[49m\u001b[38;5;241;43m=\u001b[39;49m\u001b[43mdtype\u001b[49m\u001b[43m,\u001b[49m\u001b[43m \u001b[49m\u001b[43mcopy\u001b[49m\u001b[38;5;241;43m=\u001b[39;49m\u001b[38;5;28;43;01mTrue\u001b[39;49;00m\u001b[43m)\u001b[49m\n\u001b[0;32m   1362\u001b[0m \u001b[38;5;28;01mreturn\u001b[39;00m result, is_scalar\n",
      "File \u001b[1;32mc:\\Python37\\lib\\site-packages\\numpy\\ma\\core.py:6610\u001b[0m, in \u001b[0;36marray\u001b[1;34m(data, dtype, copy, order, mask, fill_value, keep_mask, hard_mask, shrink, subok, ndmin)\u001b[0m\n\u001b[0;32m   6600\u001b[0m \u001b[38;5;28;01mdef\u001b[39;00m\u001b[38;5;250m \u001b[39m\u001b[38;5;21marray\u001b[39m(data, dtype\u001b[38;5;241m=\u001b[39m\u001b[38;5;28;01mNone\u001b[39;00m, copy\u001b[38;5;241m=\u001b[39m\u001b[38;5;28;01mFalse\u001b[39;00m, order\u001b[38;5;241m=\u001b[39m\u001b[38;5;28;01mNone\u001b[39;00m,\n\u001b[0;32m   6601\u001b[0m           mask\u001b[38;5;241m=\u001b[39mnomask, fill_value\u001b[38;5;241m=\u001b[39m\u001b[38;5;28;01mNone\u001b[39;00m, keep_mask\u001b[38;5;241m=\u001b[39m\u001b[38;5;28;01mTrue\u001b[39;00m,\n\u001b[0;32m   6602\u001b[0m           hard_mask\u001b[38;5;241m=\u001b[39m\u001b[38;5;28;01mFalse\u001b[39;00m, shrink\u001b[38;5;241m=\u001b[39m\u001b[38;5;28;01mTrue\u001b[39;00m, subok\u001b[38;5;241m=\u001b[39m\u001b[38;5;28;01mTrue\u001b[39;00m, ndmin\u001b[38;5;241m=\u001b[39m\u001b[38;5;241m0\u001b[39m):\n\u001b[0;32m   6603\u001b[0m \u001b[38;5;250m    \u001b[39m\u001b[38;5;124;03m\"\"\"\u001b[39;00m\n\u001b[0;32m   6604\u001b[0m \u001b[38;5;124;03m    Shortcut to MaskedArray.\u001b[39;00m\n\u001b[0;32m   6605\u001b[0m \n\u001b[1;32m   (...)\u001b[0m\n\u001b[0;32m   6608\u001b[0m \n\u001b[0;32m   6609\u001b[0m \u001b[38;5;124;03m    \"\"\"\u001b[39;00m\n\u001b[1;32m-> 6610\u001b[0m     \u001b[38;5;28;01mreturn\u001b[39;00m \u001b[43mMaskedArray\u001b[49m\u001b[43m(\u001b[49m\u001b[43mdata\u001b[49m\u001b[43m,\u001b[49m\u001b[43m \u001b[49m\u001b[43mmask\u001b[49m\u001b[38;5;241;43m=\u001b[39;49m\u001b[43mmask\u001b[49m\u001b[43m,\u001b[49m\u001b[43m \u001b[49m\u001b[43mdtype\u001b[49m\u001b[38;5;241;43m=\u001b[39;49m\u001b[43mdtype\u001b[49m\u001b[43m,\u001b[49m\u001b[43m \u001b[49m\u001b[43mcopy\u001b[49m\u001b[38;5;241;43m=\u001b[39;49m\u001b[43mcopy\u001b[49m\u001b[43m,\u001b[49m\n\u001b[0;32m   6611\u001b[0m \u001b[43m                       \u001b[49m\u001b[43msubok\u001b[49m\u001b[38;5;241;43m=\u001b[39;49m\u001b[43msubok\u001b[49m\u001b[43m,\u001b[49m\u001b[43m \u001b[49m\u001b[43mkeep_mask\u001b[49m\u001b[38;5;241;43m=\u001b[39;49m\u001b[43mkeep_mask\u001b[49m\u001b[43m,\u001b[49m\n\u001b[0;32m   6612\u001b[0m \u001b[43m                       \u001b[49m\u001b[43mhard_mask\u001b[49m\u001b[38;5;241;43m=\u001b[39;49m\u001b[43mhard_mask\u001b[49m\u001b[43m,\u001b[49m\u001b[43m \u001b[49m\u001b[43mfill_value\u001b[49m\u001b[38;5;241;43m=\u001b[39;49m\u001b[43mfill_value\u001b[49m\u001b[43m,\u001b[49m\n\u001b[0;32m   6613\u001b[0m \u001b[43m                       \u001b[49m\u001b[43mndmin\u001b[49m\u001b[38;5;241;43m=\u001b[39;49m\u001b[43mndmin\u001b[49m\u001b[43m,\u001b[49m\u001b[43m \u001b[49m\u001b[43mshrink\u001b[49m\u001b[38;5;241;43m=\u001b[39;49m\u001b[43mshrink\u001b[49m\u001b[43m,\u001b[49m\u001b[43m \u001b[49m\u001b[43morder\u001b[49m\u001b[38;5;241;43m=\u001b[39;49m\u001b[43morder\u001b[49m\u001b[43m)\u001b[49m\n",
      "File \u001b[1;32mc:\\Python37\\lib\\site-packages\\numpy\\ma\\core.py:2826\u001b[0m, in \u001b[0;36mMaskedArray.__new__\u001b[1;34m(cls, data, mask, dtype, copy, subok, ndmin, fill_value, keep_mask, hard_mask, shrink, order)\u001b[0m\n\u001b[0;32m   2817\u001b[0m \u001b[38;5;250m\u001b[39m\u001b[38;5;124;03m\"\"\"\u001b[39;00m\n\u001b[0;32m   2818\u001b[0m \u001b[38;5;124;03mCreate a new masked array from scratch.\u001b[39;00m\n\u001b[0;32m   2819\u001b[0m \n\u001b[1;32m   (...)\u001b[0m\n\u001b[0;32m   2823\u001b[0m \n\u001b[0;32m   2824\u001b[0m \u001b[38;5;124;03m\"\"\"\u001b[39;00m\n\u001b[0;32m   2825\u001b[0m \u001b[38;5;66;03m# Process data.\u001b[39;00m\n\u001b[1;32m-> 2826\u001b[0m _data \u001b[38;5;241m=\u001b[39m \u001b[43mnp\u001b[49m\u001b[38;5;241;43m.\u001b[39;49m\u001b[43marray\u001b[49m\u001b[43m(\u001b[49m\u001b[43mdata\u001b[49m\u001b[43m,\u001b[49m\u001b[43m \u001b[49m\u001b[43mdtype\u001b[49m\u001b[38;5;241;43m=\u001b[39;49m\u001b[43mdtype\u001b[49m\u001b[43m,\u001b[49m\u001b[43m \u001b[49m\u001b[43mcopy\u001b[49m\u001b[38;5;241;43m=\u001b[39;49m\u001b[43mcopy\u001b[49m\u001b[43m,\u001b[49m\n\u001b[0;32m   2827\u001b[0m \u001b[43m                 \u001b[49m\u001b[43morder\u001b[49m\u001b[38;5;241;43m=\u001b[39;49m\u001b[43morder\u001b[49m\u001b[43m,\u001b[49m\u001b[43m \u001b[49m\u001b[43msubok\u001b[49m\u001b[38;5;241;43m=\u001b[39;49m\u001b[38;5;28;43;01mTrue\u001b[39;49;00m\u001b[43m,\u001b[49m\u001b[43m \u001b[49m\u001b[43mndmin\u001b[49m\u001b[38;5;241;43m=\u001b[39;49m\u001b[43mndmin\u001b[49m\u001b[43m)\u001b[49m\n\u001b[0;32m   2828\u001b[0m _baseclass \u001b[38;5;241m=\u001b[39m \u001b[38;5;28mgetattr\u001b[39m(data, \u001b[38;5;124m'\u001b[39m\u001b[38;5;124m_baseclass\u001b[39m\u001b[38;5;124m'\u001b[39m, \u001b[38;5;28mtype\u001b[39m(_data))\n\u001b[0;32m   2829\u001b[0m \u001b[38;5;66;03m# Check that we're not erasing the mask.\u001b[39;00m\n",
      "\u001b[1;31mMemoryError\u001b[0m: Unable to allocate 32.3 MiB for an array with shape (1025, 8262) and data type float32"
     ]
    },
    {
     "data": {
      "text/plain": [
       "<Figure size 1000x400 with 2 Axes>"
      ]
     },
     "metadata": {},
     "output_type": "display_data"
    }
   ],
   "source": [
    "import os\n",
    "import librosa\n",
    "import librosa.display\n",
    "import numpy as np\n",
    "import matplotlib.pyplot as plt\n",
    "\n",
    "# Paths\n",
    "wav_base_path = r\"C:/Users/Ramiro Brie/Desktop/UPC_IA_GITHUB/TFM/compressed_database/musdb_wav\"\n",
    "spectrogram_base_path = r\"C:/Users/Ramiro Brie/Desktop/UPC_IA_GITHUB/TFM/compressed_database/spectrograms\"\n",
    "alternative_train_path = os.path.join(spectrogram_base_path, \"train_alternative\")\n",
    "alternative_test_path = os.path.join(spectrogram_base_path, \"test_alternative\")\n",
    "\n",
    "os.makedirs(alternative_train_path, exist_ok=True)\n",
    "os.makedirs(alternative_test_path, exist_ok=True)\n",
    "\n",
    "# Function to generate and save spectrograms\n",
    "def save_spectrograms(wav_file, subset_folder):\n",
    "    # Load WAV file\n",
    "    y, sr = librosa.load(wav_file, sr=22050)\n",
    "\n",
    "    # # 1️⃣ Generate Mel Spectrogram\n",
    "    # mel_spec = librosa.feature.melspectrogram(y=y, sr=sr)\n",
    "    # mel_spec_db = librosa.power_to_db(mel_spec, ref=np.max)\n",
    "\n",
    "    # 2️⃣ Generate STFT Spectrogram\n",
    "    stft_spec = np.abs(librosa.stft(y))\n",
    "    stft_spec_db = librosa.amplitude_to_db(stft_spec, ref=np.max)\n",
    "\n",
    "    # Extract filename without extension\n",
    "    base_name = os.path.splitext(os.path.basename(wav_file))[0]\n",
    "\n",
    "    # # Plot and save Mel Spectrogram\n",
    "    # plt.figure(figsize=(10, 4))\n",
    "    # librosa.display.specshow(mel_spec_db, sr=sr, x_axis='time', y_axis='mel')\n",
    "    # plt.colorbar(format='%+2.0f dB')\n",
    "    # plt.title(f\"Mel Spectrogram: {base_name}\")\n",
    "    # plt.savefig(os.path.join(subset_folder, f\"{base_name}_mel.png\"))\n",
    "    # plt.close()\n",
    "\n",
    "    # Plot and save STFT Spectrogram\n",
    "    plt.figure(figsize=(10, 4))\n",
    "    librosa.display.specshow(stft_spec_db, sr=sr, x_axis='time', y_axis='log')\n",
    "    plt.colorbar(format='%+2.0f dB')\n",
    "    plt.title(f\"STFT Spectrogram: {base_name}\")\n",
    "    plt.savefig(os.path.join(subset_folder, f\"{base_name}_stft.png\"))\n",
    "    plt.close()\n",
    "\n",
    "# Process WAV files in both 'train' and 'test' folders\n",
    "for subset, subset_folder in [(\"train\", alternative_train_path), (\"test\", alternative_test_path)]:\n",
    "    wav_folder = os.path.join(wav_base_path, subset)\n",
    "\n",
    "    if os.path.exists(wav_folder):\n",
    "        for file in os.listdir(wav_folder):\n",
    "            if file.endswith(\".wav\"):  # Process only .wav files\n",
    "                save_spectrograms(os.path.join(wav_folder, file), subset_folder)\n",
    "\n",
    "print(\"✅ Spectrograms saved in 'train_alternative' and 'test_alternative' folders!\")\n"
   ]
  },
  {
   "cell_type": "markdown",
   "metadata": {},
   "source": [
    "### Iterate over MUSDB18 tracks"
   ]
  },
  {
   "cell_type": "code",
   "execution_count": 134,
   "metadata": {},
   "outputs": [],
   "source": [
    "#for track in mus:\n",
    "#     train(track.audio, track.targets['vocals'].audio)"
   ]
  },
  {
   "cell_type": "markdown",
   "metadata": {},
   "source": [
    "Tracks properties\n",
    "The Track objects which makes it easy to process the audio and metadata in a pythonic way:\n",
    "\n",
    "Track.name, the track name, consisting of Track.artist and Track.title.\n",
    "Track.path, the absolute path of the mixture which might be handy to process with external applications.\n",
    "Track.audio, stereo mixture as an numpy array of shape (nb_samples, 2).\n",
    "Track.rate, the sample rate of the mixture.\n",
    "Track.sources, a dictionary of sources used for this track.\n",
    "Track.stems, an numpy tensor of all five stereo sources of shape (5, nb_samples, 2). The stems are always in the following order: ['mixture', 'drums', 'bass', 'other', 'vocals'],\n",
    "Track.targets, a dictionary of targets provided for this track. Note that for MUSDB, the sources and targets differ only in the existence of the accompaniment, which is the sum of all sources, except for the vocals. MUSDB supports the following targets: ['mixture', 'drums', 'bass', 'other', 'vocals', 'accompaniment', 'linear_mixture']. Note that some of the targets (such as accompaniment) are dynamically mixed on the fly."
   ]
  }
 ],
 "metadata": {
  "kernelspec": {
   "display_name": "Python 3",
   "language": "python",
   "name": "python3"
  },
  "language_info": {
   "codemirror_mode": {
    "name": "ipython",
    "version": 3
   },
   "file_extension": ".py",
   "mimetype": "text/x-python",
   "name": "python",
   "nbconvert_exporter": "python",
   "pygments_lexer": "ipython3",
   "version": "3.9.1"
  }
 },
 "nbformat": 4,
 "nbformat_minor": 2
}
